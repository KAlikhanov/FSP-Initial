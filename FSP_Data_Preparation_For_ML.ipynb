{
  "nbformat": 4,
  "nbformat_minor": 0,
  "metadata": {
    "colab": {
      "name": "Project_1_Pt_5.ipynb",
      "provenance": [],
      "collapsed_sections": [],
      "mount_file_id": "1OREtXadqQPwH4TDwj2iiZDwiN7kAfgho",
      "authorship_tag": "ABX9TyO6m5vC8b93reVSSajPylRx",
      "include_colab_link": true
    },
    "kernelspec": {
      "name": "python3",
      "display_name": "Python 3"
    },
    "language_info": {
      "name": "python"
    }
  },
  "cells": [
    {
      "cell_type": "markdown",
      "metadata": {
        "id": "view-in-github",
        "colab_type": "text"
      },
      "source": [
        "<a href=\"https://colab.research.google.com/github/KAlikhanov/food-sales-prediction-proj/blob/main/FSP_Data_Preparation_For_ML.ipynb\" target=\"_parent\"><img src=\"https://colab.research.google.com/assets/colab-badge.svg\" alt=\"Open In Colab\"/></a>"
      ]
    },
    {
      "cell_type": "markdown",
      "source": [
        "# Preparing Data for Machine-Learning"
      ],
      "metadata": {
        "id": "zdvrS_MMjZn_"
      }
    },
    {
      "cell_type": "markdown",
      "source": [
        "## Importing libraries and loading in the data."
      ],
      "metadata": {
        "id": "gpS5DYQtjilh"
      }
    },
    {
      "cell_type": "code",
      "execution_count": 212,
      "metadata": {
        "id": "1sR8yBBeHmqm"
      },
      "outputs": [],
      "source": [
        "import pandas as pd\n",
        "import numpy as np\n",
        "from sklearn.model_selection import train_test_split\n",
        "from sklearn.compose import make_column_transformer, make_column_selector\n",
        "from sklearn.preprocessing import StandardScaler, OneHotEncoder, OrdinalEncoder\n",
        "from sklearn.pipeline import make_pipeline\n",
        "from sklearn.impute import SimpleImputer \n",
        "from sklearn import set_config\n",
        "set_config(display='diagram')"
      ]
    },
    {
      "cell_type": "code",
      "source": [
        "# Load in the dataset fresh\n",
        "filename = '/content/drive/MyDrive/Colab Notebooks/Sales Prediction Project/sales_predictions.csv'\n",
        "df = pd.read_csv(filename)\n",
        "df.head()"
      ],
      "metadata": {
        "colab": {
          "base_uri": "https://localhost:8080/",
          "height": 206
        },
        "id": "REC1-BDaQWx2",
        "outputId": "b4d0b0ea-ef43-4521-8c62-6e04073ad867"
      },
      "execution_count": 213,
      "outputs": [
        {
          "output_type": "execute_result",
          "data": {
            "text/plain": [
              "  Item_Identifier  Item_Weight Item_Fat_Content  Item_Visibility  \\\n",
              "0           FDA15         9.30          Low Fat         0.016047   \n",
              "1           DRC01         5.92          Regular         0.019278   \n",
              "2           FDN15        17.50          Low Fat         0.016760   \n",
              "3           FDX07        19.20          Regular         0.000000   \n",
              "4           NCD19         8.93          Low Fat         0.000000   \n",
              "\n",
              "               Item_Type  Item_MRP Outlet_Identifier  \\\n",
              "0                  Dairy  249.8092            OUT049   \n",
              "1            Soft Drinks   48.2692            OUT018   \n",
              "2                   Meat  141.6180            OUT049   \n",
              "3  Fruits and Vegetables  182.0950            OUT010   \n",
              "4              Household   53.8614            OUT013   \n",
              "\n",
              "   Outlet_Establishment_Year Outlet_Size Outlet_Location_Type  \\\n",
              "0                       1999      Medium               Tier 1   \n",
              "1                       2009      Medium               Tier 3   \n",
              "2                       1999      Medium               Tier 1   \n",
              "3                       1998         NaN               Tier 3   \n",
              "4                       1987        High               Tier 3   \n",
              "\n",
              "         Outlet_Type  Item_Outlet_Sales  \n",
              "0  Supermarket Type1          3735.1380  \n",
              "1  Supermarket Type2           443.4228  \n",
              "2  Supermarket Type1          2097.2700  \n",
              "3      Grocery Store           732.3800  \n",
              "4  Supermarket Type1           994.7052  "
            ],
            "text/html": [
              "\n",
              "  <div id=\"df-107f8cd2-9ae5-4738-8478-5e0e7d1c6bed\">\n",
              "    <div class=\"colab-df-container\">\n",
              "      <div>\n",
              "<style scoped>\n",
              "    .dataframe tbody tr th:only-of-type {\n",
              "        vertical-align: middle;\n",
              "    }\n",
              "\n",
              "    .dataframe tbody tr th {\n",
              "        vertical-align: top;\n",
              "    }\n",
              "\n",
              "    .dataframe thead th {\n",
              "        text-align: right;\n",
              "    }\n",
              "</style>\n",
              "<table border=\"1\" class=\"dataframe\">\n",
              "  <thead>\n",
              "    <tr style=\"text-align: right;\">\n",
              "      <th></th>\n",
              "      <th>Item_Identifier</th>\n",
              "      <th>Item_Weight</th>\n",
              "      <th>Item_Fat_Content</th>\n",
              "      <th>Item_Visibility</th>\n",
              "      <th>Item_Type</th>\n",
              "      <th>Item_MRP</th>\n",
              "      <th>Outlet_Identifier</th>\n",
              "      <th>Outlet_Establishment_Year</th>\n",
              "      <th>Outlet_Size</th>\n",
              "      <th>Outlet_Location_Type</th>\n",
              "      <th>Outlet_Type</th>\n",
              "      <th>Item_Outlet_Sales</th>\n",
              "    </tr>\n",
              "  </thead>\n",
              "  <tbody>\n",
              "    <tr>\n",
              "      <th>0</th>\n",
              "      <td>FDA15</td>\n",
              "      <td>9.30</td>\n",
              "      <td>Low Fat</td>\n",
              "      <td>0.016047</td>\n",
              "      <td>Dairy</td>\n",
              "      <td>249.8092</td>\n",
              "      <td>OUT049</td>\n",
              "      <td>1999</td>\n",
              "      <td>Medium</td>\n",
              "      <td>Tier 1</td>\n",
              "      <td>Supermarket Type1</td>\n",
              "      <td>3735.1380</td>\n",
              "    </tr>\n",
              "    <tr>\n",
              "      <th>1</th>\n",
              "      <td>DRC01</td>\n",
              "      <td>5.92</td>\n",
              "      <td>Regular</td>\n",
              "      <td>0.019278</td>\n",
              "      <td>Soft Drinks</td>\n",
              "      <td>48.2692</td>\n",
              "      <td>OUT018</td>\n",
              "      <td>2009</td>\n",
              "      <td>Medium</td>\n",
              "      <td>Tier 3</td>\n",
              "      <td>Supermarket Type2</td>\n",
              "      <td>443.4228</td>\n",
              "    </tr>\n",
              "    <tr>\n",
              "      <th>2</th>\n",
              "      <td>FDN15</td>\n",
              "      <td>17.50</td>\n",
              "      <td>Low Fat</td>\n",
              "      <td>0.016760</td>\n",
              "      <td>Meat</td>\n",
              "      <td>141.6180</td>\n",
              "      <td>OUT049</td>\n",
              "      <td>1999</td>\n",
              "      <td>Medium</td>\n",
              "      <td>Tier 1</td>\n",
              "      <td>Supermarket Type1</td>\n",
              "      <td>2097.2700</td>\n",
              "    </tr>\n",
              "    <tr>\n",
              "      <th>3</th>\n",
              "      <td>FDX07</td>\n",
              "      <td>19.20</td>\n",
              "      <td>Regular</td>\n",
              "      <td>0.000000</td>\n",
              "      <td>Fruits and Vegetables</td>\n",
              "      <td>182.0950</td>\n",
              "      <td>OUT010</td>\n",
              "      <td>1998</td>\n",
              "      <td>NaN</td>\n",
              "      <td>Tier 3</td>\n",
              "      <td>Grocery Store</td>\n",
              "      <td>732.3800</td>\n",
              "    </tr>\n",
              "    <tr>\n",
              "      <th>4</th>\n",
              "      <td>NCD19</td>\n",
              "      <td>8.93</td>\n",
              "      <td>Low Fat</td>\n",
              "      <td>0.000000</td>\n",
              "      <td>Household</td>\n",
              "      <td>53.8614</td>\n",
              "      <td>OUT013</td>\n",
              "      <td>1987</td>\n",
              "      <td>High</td>\n",
              "      <td>Tier 3</td>\n",
              "      <td>Supermarket Type1</td>\n",
              "      <td>994.7052</td>\n",
              "    </tr>\n",
              "  </tbody>\n",
              "</table>\n",
              "</div>\n",
              "      <button class=\"colab-df-convert\" onclick=\"convertToInteractive('df-107f8cd2-9ae5-4738-8478-5e0e7d1c6bed')\"\n",
              "              title=\"Convert this dataframe to an interactive table.\"\n",
              "              style=\"display:none;\">\n",
              "        \n",
              "  <svg xmlns=\"http://www.w3.org/2000/svg\" height=\"24px\"viewBox=\"0 0 24 24\"\n",
              "       width=\"24px\">\n",
              "    <path d=\"M0 0h24v24H0V0z\" fill=\"none\"/>\n",
              "    <path d=\"M18.56 5.44l.94 2.06.94-2.06 2.06-.94-2.06-.94-.94-2.06-.94 2.06-2.06.94zm-11 1L8.5 8.5l.94-2.06 2.06-.94-2.06-.94L8.5 2.5l-.94 2.06-2.06.94zm10 10l.94 2.06.94-2.06 2.06-.94-2.06-.94-.94-2.06-.94 2.06-2.06.94z\"/><path d=\"M17.41 7.96l-1.37-1.37c-.4-.4-.92-.59-1.43-.59-.52 0-1.04.2-1.43.59L10.3 9.45l-7.72 7.72c-.78.78-.78 2.05 0 2.83L4 21.41c.39.39.9.59 1.41.59.51 0 1.02-.2 1.41-.59l7.78-7.78 2.81-2.81c.8-.78.8-2.07 0-2.86zM5.41 20L4 18.59l7.72-7.72 1.47 1.35L5.41 20z\"/>\n",
              "  </svg>\n",
              "      </button>\n",
              "      \n",
              "  <style>\n",
              "    .colab-df-container {\n",
              "      display:flex;\n",
              "      flex-wrap:wrap;\n",
              "      gap: 12px;\n",
              "    }\n",
              "\n",
              "    .colab-df-convert {\n",
              "      background-color: #E8F0FE;\n",
              "      border: none;\n",
              "      border-radius: 50%;\n",
              "      cursor: pointer;\n",
              "      display: none;\n",
              "      fill: #1967D2;\n",
              "      height: 32px;\n",
              "      padding: 0 0 0 0;\n",
              "      width: 32px;\n",
              "    }\n",
              "\n",
              "    .colab-df-convert:hover {\n",
              "      background-color: #E2EBFA;\n",
              "      box-shadow: 0px 1px 2px rgba(60, 64, 67, 0.3), 0px 1px 3px 1px rgba(60, 64, 67, 0.15);\n",
              "      fill: #174EA6;\n",
              "    }\n",
              "\n",
              "    [theme=dark] .colab-df-convert {\n",
              "      background-color: #3B4455;\n",
              "      fill: #D2E3FC;\n",
              "    }\n",
              "\n",
              "    [theme=dark] .colab-df-convert:hover {\n",
              "      background-color: #434B5C;\n",
              "      box-shadow: 0px 1px 3px 1px rgba(0, 0, 0, 0.15);\n",
              "      filter: drop-shadow(0px 1px 2px rgba(0, 0, 0, 0.3));\n",
              "      fill: #FFFFFF;\n",
              "    }\n",
              "  </style>\n",
              "\n",
              "      <script>\n",
              "        const buttonEl =\n",
              "          document.querySelector('#df-107f8cd2-9ae5-4738-8478-5e0e7d1c6bed button.colab-df-convert');\n",
              "        buttonEl.style.display =\n",
              "          google.colab.kernel.accessAllowed ? 'block' : 'none';\n",
              "\n",
              "        async function convertToInteractive(key) {\n",
              "          const element = document.querySelector('#df-107f8cd2-9ae5-4738-8478-5e0e7d1c6bed');\n",
              "          const dataTable =\n",
              "            await google.colab.kernel.invokeFunction('convertToInteractive',\n",
              "                                                     [key], {});\n",
              "          if (!dataTable) return;\n",
              "\n",
              "          const docLinkHtml = 'Like what you see? Visit the ' +\n",
              "            '<a target=\"_blank\" href=https://colab.research.google.com/notebooks/data_table.ipynb>data table notebook</a>'\n",
              "            + ' to learn more about interactive tables.';\n",
              "          element.innerHTML = '';\n",
              "          dataTable['output_type'] = 'display_data';\n",
              "          await google.colab.output.renderOutput(dataTable, element);\n",
              "          const docLink = document.createElement('div');\n",
              "          docLink.innerHTML = docLinkHtml;\n",
              "          element.appendChild(docLink);\n",
              "        }\n",
              "      </script>\n",
              "    </div>\n",
              "  </div>\n",
              "  "
            ]
          },
          "metadata": {},
          "execution_count": 213
        }
      ]
    },
    {
      "cell_type": "markdown",
      "source": [
        "## Creating a copy of the data and doing preliminary manipulations\n",
        "The manipulations include dropping duplicate rows and fixing inconsistencies with categorical data."
      ],
      "metadata": {
        "id": "PZgzVW0kjrfS"
      }
    },
    {
      "cell_type": "code",
      "source": [
        "# Create a copy of the dataframe\n",
        "ml_df = df.copy()"
      ],
      "metadata": {
        "id": "_gnjvFcXQW7X"
      },
      "execution_count": 214,
      "outputs": []
    },
    {
      "cell_type": "code",
      "source": [
        "# drop duplicates (There are no duplicates in this case but just to make sure.)\n",
        "ml_df.drop_duplicates(inplace=True)"
      ],
      "metadata": {
        "id": "oCMKcXW7QXDZ"
      },
      "execution_count": 215,
      "outputs": []
    },
    {
      "cell_type": "code",
      "source": [
        "ml_df.info()"
      ],
      "metadata": {
        "colab": {
          "base_uri": "https://localhost:8080/"
        },
        "id": "J4Em1Vv8QXKF",
        "outputId": "03357664-5661-4e52-e18b-32d18e8b4769"
      },
      "execution_count": 216,
      "outputs": [
        {
          "output_type": "stream",
          "name": "stdout",
          "text": [
            "<class 'pandas.core.frame.DataFrame'>\n",
            "Int64Index: 8523 entries, 0 to 8522\n",
            "Data columns (total 12 columns):\n",
            " #   Column                     Non-Null Count  Dtype  \n",
            "---  ------                     --------------  -----  \n",
            " 0   Item_Identifier            8523 non-null   object \n",
            " 1   Item_Weight                7060 non-null   float64\n",
            " 2   Item_Fat_Content           8523 non-null   object \n",
            " 3   Item_Visibility            8523 non-null   float64\n",
            " 4   Item_Type                  8523 non-null   object \n",
            " 5   Item_MRP                   8523 non-null   float64\n",
            " 6   Outlet_Identifier          8523 non-null   object \n",
            " 7   Outlet_Establishment_Year  8523 non-null   int64  \n",
            " 8   Outlet_Size                6113 non-null   object \n",
            " 9   Outlet_Location_Type       8523 non-null   object \n",
            " 10  Outlet_Type                8523 non-null   object \n",
            " 11  Item_Outlet_Sales          8523 non-null   float64\n",
            "dtypes: float64(4), int64(1), object(7)\n",
            "memory usage: 865.6+ KB\n"
          ]
        }
      ]
    },
    {
      "cell_type": "code",
      "source": [
        "ml_df['Item_Fat_Content'].value_counts()"
      ],
      "metadata": {
        "colab": {
          "base_uri": "https://localhost:8080/"
        },
        "id": "mBWl1VrGQXO3",
        "outputId": "d2ef2113-e25d-4798-d983-9c9de2110559"
      },
      "execution_count": 217,
      "outputs": [
        {
          "output_type": "execute_result",
          "data": {
            "text/plain": [
              "Low Fat    5089\n",
              "Regular    2889\n",
              "LF          316\n",
              "reg         117\n",
              "low fat     112\n",
              "Name: Item_Fat_Content, dtype: int64"
            ]
          },
          "metadata": {},
          "execution_count": 217
        }
      ]
    },
    {
      "cell_type": "code",
      "source": [
        "# Fix inconsistencies in categorical data before splitting.\n",
        "replace_dic = {'LF':'Low Fat',\n",
        "               'reg':'Regular',\n",
        "               'low fat':'Low Fat'}\n",
        "ml_df = ml_df.replace(replace_dic)\n",
        "ml_df['Item_Fat_Content'].value_counts()"
      ],
      "metadata": {
        "colab": {
          "base_uri": "https://localhost:8080/"
        },
        "id": "i95iWQFLQXSq",
        "outputId": "db533c1f-bfd0-4626-93bb-656d0cdb7ebe"
      },
      "execution_count": 218,
      "outputs": [
        {
          "output_type": "execute_result",
          "data": {
            "text/plain": [
              "Low Fat    5517\n",
              "Regular    3006\n",
              "Name: Item_Fat_Content, dtype: int64"
            ]
          },
          "metadata": {},
          "execution_count": 218
        }
      ]
    },
    {
      "cell_type": "code",
      "source": [
        "ml_df.describe()"
      ],
      "metadata": {
        "colab": {
          "base_uri": "https://localhost:8080/",
          "height": 300
        },
        "id": "6TC4YkWMQXWG",
        "outputId": "c30b368b-409d-49e8-a8f4-e3765fed738c"
      },
      "execution_count": 219,
      "outputs": [
        {
          "output_type": "execute_result",
          "data": {
            "text/plain": [
              "       Item_Weight  Item_Visibility     Item_MRP  Outlet_Establishment_Year  \\\n",
              "count  7060.000000      8523.000000  8523.000000                8523.000000   \n",
              "mean     12.857645         0.066132   140.992782                1997.831867   \n",
              "std       4.643456         0.051598    62.275067                   8.371760   \n",
              "min       4.555000         0.000000    31.290000                1985.000000   \n",
              "25%       8.773750         0.026989    93.826500                1987.000000   \n",
              "50%      12.600000         0.053931   143.012800                1999.000000   \n",
              "75%      16.850000         0.094585   185.643700                2004.000000   \n",
              "max      21.350000         0.328391   266.888400                2009.000000   \n",
              "\n",
              "       Item_Outlet_Sales  \n",
              "count        8523.000000  \n",
              "mean         2181.288914  \n",
              "std          1706.499616  \n",
              "min            33.290000  \n",
              "25%           834.247400  \n",
              "50%          1794.331000  \n",
              "75%          3101.296400  \n",
              "max         13086.964800  "
            ],
            "text/html": [
              "\n",
              "  <div id=\"df-0a57b966-4a66-4d08-86ce-04b3285b1e72\">\n",
              "    <div class=\"colab-df-container\">\n",
              "      <div>\n",
              "<style scoped>\n",
              "    .dataframe tbody tr th:only-of-type {\n",
              "        vertical-align: middle;\n",
              "    }\n",
              "\n",
              "    .dataframe tbody tr th {\n",
              "        vertical-align: top;\n",
              "    }\n",
              "\n",
              "    .dataframe thead th {\n",
              "        text-align: right;\n",
              "    }\n",
              "</style>\n",
              "<table border=\"1\" class=\"dataframe\">\n",
              "  <thead>\n",
              "    <tr style=\"text-align: right;\">\n",
              "      <th></th>\n",
              "      <th>Item_Weight</th>\n",
              "      <th>Item_Visibility</th>\n",
              "      <th>Item_MRP</th>\n",
              "      <th>Outlet_Establishment_Year</th>\n",
              "      <th>Item_Outlet_Sales</th>\n",
              "    </tr>\n",
              "  </thead>\n",
              "  <tbody>\n",
              "    <tr>\n",
              "      <th>count</th>\n",
              "      <td>7060.000000</td>\n",
              "      <td>8523.000000</td>\n",
              "      <td>8523.000000</td>\n",
              "      <td>8523.000000</td>\n",
              "      <td>8523.000000</td>\n",
              "    </tr>\n",
              "    <tr>\n",
              "      <th>mean</th>\n",
              "      <td>12.857645</td>\n",
              "      <td>0.066132</td>\n",
              "      <td>140.992782</td>\n",
              "      <td>1997.831867</td>\n",
              "      <td>2181.288914</td>\n",
              "    </tr>\n",
              "    <tr>\n",
              "      <th>std</th>\n",
              "      <td>4.643456</td>\n",
              "      <td>0.051598</td>\n",
              "      <td>62.275067</td>\n",
              "      <td>8.371760</td>\n",
              "      <td>1706.499616</td>\n",
              "    </tr>\n",
              "    <tr>\n",
              "      <th>min</th>\n",
              "      <td>4.555000</td>\n",
              "      <td>0.000000</td>\n",
              "      <td>31.290000</td>\n",
              "      <td>1985.000000</td>\n",
              "      <td>33.290000</td>\n",
              "    </tr>\n",
              "    <tr>\n",
              "      <th>25%</th>\n",
              "      <td>8.773750</td>\n",
              "      <td>0.026989</td>\n",
              "      <td>93.826500</td>\n",
              "      <td>1987.000000</td>\n",
              "      <td>834.247400</td>\n",
              "    </tr>\n",
              "    <tr>\n",
              "      <th>50%</th>\n",
              "      <td>12.600000</td>\n",
              "      <td>0.053931</td>\n",
              "      <td>143.012800</td>\n",
              "      <td>1999.000000</td>\n",
              "      <td>1794.331000</td>\n",
              "    </tr>\n",
              "    <tr>\n",
              "      <th>75%</th>\n",
              "      <td>16.850000</td>\n",
              "      <td>0.094585</td>\n",
              "      <td>185.643700</td>\n",
              "      <td>2004.000000</td>\n",
              "      <td>3101.296400</td>\n",
              "    </tr>\n",
              "    <tr>\n",
              "      <th>max</th>\n",
              "      <td>21.350000</td>\n",
              "      <td>0.328391</td>\n",
              "      <td>266.888400</td>\n",
              "      <td>2009.000000</td>\n",
              "      <td>13086.964800</td>\n",
              "    </tr>\n",
              "  </tbody>\n",
              "</table>\n",
              "</div>\n",
              "      <button class=\"colab-df-convert\" onclick=\"convertToInteractive('df-0a57b966-4a66-4d08-86ce-04b3285b1e72')\"\n",
              "              title=\"Convert this dataframe to an interactive table.\"\n",
              "              style=\"display:none;\">\n",
              "        \n",
              "  <svg xmlns=\"http://www.w3.org/2000/svg\" height=\"24px\"viewBox=\"0 0 24 24\"\n",
              "       width=\"24px\">\n",
              "    <path d=\"M0 0h24v24H0V0z\" fill=\"none\"/>\n",
              "    <path d=\"M18.56 5.44l.94 2.06.94-2.06 2.06-.94-2.06-.94-.94-2.06-.94 2.06-2.06.94zm-11 1L8.5 8.5l.94-2.06 2.06-.94-2.06-.94L8.5 2.5l-.94 2.06-2.06.94zm10 10l.94 2.06.94-2.06 2.06-.94-2.06-.94-.94-2.06-.94 2.06-2.06.94z\"/><path d=\"M17.41 7.96l-1.37-1.37c-.4-.4-.92-.59-1.43-.59-.52 0-1.04.2-1.43.59L10.3 9.45l-7.72 7.72c-.78.78-.78 2.05 0 2.83L4 21.41c.39.39.9.59 1.41.59.51 0 1.02-.2 1.41-.59l7.78-7.78 2.81-2.81c.8-.78.8-2.07 0-2.86zM5.41 20L4 18.59l7.72-7.72 1.47 1.35L5.41 20z\"/>\n",
              "  </svg>\n",
              "      </button>\n",
              "      \n",
              "  <style>\n",
              "    .colab-df-container {\n",
              "      display:flex;\n",
              "      flex-wrap:wrap;\n",
              "      gap: 12px;\n",
              "    }\n",
              "\n",
              "    .colab-df-convert {\n",
              "      background-color: #E8F0FE;\n",
              "      border: none;\n",
              "      border-radius: 50%;\n",
              "      cursor: pointer;\n",
              "      display: none;\n",
              "      fill: #1967D2;\n",
              "      height: 32px;\n",
              "      padding: 0 0 0 0;\n",
              "      width: 32px;\n",
              "    }\n",
              "\n",
              "    .colab-df-convert:hover {\n",
              "      background-color: #E2EBFA;\n",
              "      box-shadow: 0px 1px 2px rgba(60, 64, 67, 0.3), 0px 1px 3px 1px rgba(60, 64, 67, 0.15);\n",
              "      fill: #174EA6;\n",
              "    }\n",
              "\n",
              "    [theme=dark] .colab-df-convert {\n",
              "      background-color: #3B4455;\n",
              "      fill: #D2E3FC;\n",
              "    }\n",
              "\n",
              "    [theme=dark] .colab-df-convert:hover {\n",
              "      background-color: #434B5C;\n",
              "      box-shadow: 0px 1px 3px 1px rgba(0, 0, 0, 0.15);\n",
              "      filter: drop-shadow(0px 1px 2px rgba(0, 0, 0, 0.3));\n",
              "      fill: #FFFFFF;\n",
              "    }\n",
              "  </style>\n",
              "\n",
              "      <script>\n",
              "        const buttonEl =\n",
              "          document.querySelector('#df-0a57b966-4a66-4d08-86ce-04b3285b1e72 button.colab-df-convert');\n",
              "        buttonEl.style.display =\n",
              "          google.colab.kernel.accessAllowed ? 'block' : 'none';\n",
              "\n",
              "        async function convertToInteractive(key) {\n",
              "          const element = document.querySelector('#df-0a57b966-4a66-4d08-86ce-04b3285b1e72');\n",
              "          const dataTable =\n",
              "            await google.colab.kernel.invokeFunction('convertToInteractive',\n",
              "                                                     [key], {});\n",
              "          if (!dataTable) return;\n",
              "\n",
              "          const docLinkHtml = 'Like what you see? Visit the ' +\n",
              "            '<a target=\"_blank\" href=https://colab.research.google.com/notebooks/data_table.ipynb>data table notebook</a>'\n",
              "            + ' to learn more about interactive tables.';\n",
              "          element.innerHTML = '';\n",
              "          dataTable['output_type'] = 'display_data';\n",
              "          await google.colab.output.renderOutput(dataTable, element);\n",
              "          const docLink = document.createElement('div');\n",
              "          docLink.innerHTML = docLinkHtml;\n",
              "          element.appendChild(docLink);\n",
              "        }\n",
              "      </script>\n",
              "    </div>\n",
              "  </div>\n",
              "  "
            ]
          },
          "metadata": {},
          "execution_count": 219
        }
      ]
    },
    {
      "cell_type": "markdown",
      "source": [
        "## Creating the target and feature dataframes and splitting the data using train_test_split.\n",
        "Extraneous columns are also dropped."
      ],
      "metadata": {
        "id": "znVZz6a2kAOy"
      }
    },
    {
      "cell_type": "code",
      "source": [
        "# I check to see if there are missing any values in the target dataset, since  \n",
        "# there are not nothing needs to be done.\n",
        "ml_df['Item_Outlet_Sales'].isna().sum()"
      ],
      "metadata": {
        "colab": {
          "base_uri": "https://localhost:8080/"
        },
        "id": "7ChLc1A_R5aX",
        "outputId": "878fbcf4-7af3-451f-cd31-f13e2412ec1d"
      },
      "execution_count": 220,
      "outputs": [
        {
          "output_type": "execute_result",
          "data": {
            "text/plain": [
              "0"
            ]
          },
          "metadata": {},
          "execution_count": 220
        }
      ]
    },
    {
      "cell_type": "code",
      "source": [
        "# Creating our feature and target datasets.\n",
        "# I drop the Item_Identifier column because it is a unique product id and will\n",
        "# not be useful for ML. Outlet_Identifier is the same but for outlets.\n",
        "# Outlet_Establishment_Year is not really relevant data for our problem. \n",
        "X = ml_df.drop(columns=['Item_Outlet_Sales',\n",
        "                        'Item_Identifier',\n",
        "                        'Outlet_Identifier',\n",
        "                        'Outlet_Establishment_Year'])\n",
        "y = ml_df['Item_Outlet_Sales']"
      ],
      "metadata": {
        "id": "CzeFzgw4kniB"
      },
      "execution_count": 221,
      "outputs": []
    },
    {
      "cell_type": "code",
      "source": [
        "# Performing a train_test_split on the data.\n",
        "X_train, X_test, y_train, y_test = train_test_split(X, y, random_state = 42)"
      ],
      "metadata": {
        "id": "nABfVhI0S1ol"
      },
      "execution_count": 222,
      "outputs": []
    },
    {
      "cell_type": "markdown",
      "source": [
        "## Sorting the different types of data.\n",
        "I sort the columns to be either nominal, ordinal, or numerical."
      ],
      "metadata": {
        "id": "j8y93gwglAol"
      }
    },
    {
      "cell_type": "code",
      "source": [
        "X_train.info()"
      ],
      "metadata": {
        "colab": {
          "base_uri": "https://localhost:8080/"
        },
        "id": "GNSbNSbmURO4",
        "outputId": "b731008c-0584-499a-b795-04890e1ebd68"
      },
      "execution_count": 223,
      "outputs": [
        {
          "output_type": "stream",
          "name": "stdout",
          "text": [
            "<class 'pandas.core.frame.DataFrame'>\n",
            "Int64Index: 6392 entries, 4776 to 7270\n",
            "Data columns (total 8 columns):\n",
            " #   Column                Non-Null Count  Dtype  \n",
            "---  ------                --------------  -----  \n",
            " 0   Item_Weight           5285 non-null   float64\n",
            " 1   Item_Fat_Content      6392 non-null   object \n",
            " 2   Item_Visibility       6392 non-null   float64\n",
            " 3   Item_Type             6392 non-null   object \n",
            " 4   Item_MRP              6392 non-null   float64\n",
            " 5   Outlet_Size           4580 non-null   object \n",
            " 6   Outlet_Location_Type  6392 non-null   object \n",
            " 7   Outlet_Type           6392 non-null   object \n",
            "dtypes: float64(3), object(5)\n",
            "memory usage: 449.4+ KB\n"
          ]
        }
      ]
    },
    {
      "cell_type": "code",
      "source": [
        "X_train.head()"
      ],
      "metadata": {
        "colab": {
          "base_uri": "https://localhost:8080/",
          "height": 206
        },
        "id": "9yJLeQ6sUDYG",
        "outputId": "e231feed-61a5-4c46-eeb7-c5195c9e84f8"
      },
      "execution_count": 224,
      "outputs": [
        {
          "output_type": "execute_result",
          "data": {
            "text/plain": [
              "      Item_Weight Item_Fat_Content  Item_Visibility     Item_Type  Item_MRP  \\\n",
              "4776       16.350          Low Fat         0.029565     Household  256.4646   \n",
              "7510       15.250          Regular         0.000000   Snack Foods  179.7660   \n",
              "5828       12.350          Regular         0.158716          Meat  157.2946   \n",
              "5327        7.975          Low Fat         0.014628  Baking Goods   82.3250   \n",
              "4810       19.350          Low Fat         0.016645  Frozen Foods  120.9098   \n",
              "\n",
              "     Outlet_Size Outlet_Location_Type        Outlet_Type  \n",
              "4776      Medium               Tier 3  Supermarket Type2  \n",
              "7510      Medium               Tier 3  Supermarket Type2  \n",
              "5828      Medium               Tier 1  Supermarket Type1  \n",
              "5327       Small               Tier 2  Supermarket Type1  \n",
              "4810         NaN               Tier 2  Supermarket Type1  "
            ],
            "text/html": [
              "\n",
              "  <div id=\"df-ad81cd4d-f6f7-4a1e-901b-5b29079d0eca\">\n",
              "    <div class=\"colab-df-container\">\n",
              "      <div>\n",
              "<style scoped>\n",
              "    .dataframe tbody tr th:only-of-type {\n",
              "        vertical-align: middle;\n",
              "    }\n",
              "\n",
              "    .dataframe tbody tr th {\n",
              "        vertical-align: top;\n",
              "    }\n",
              "\n",
              "    .dataframe thead th {\n",
              "        text-align: right;\n",
              "    }\n",
              "</style>\n",
              "<table border=\"1\" class=\"dataframe\">\n",
              "  <thead>\n",
              "    <tr style=\"text-align: right;\">\n",
              "      <th></th>\n",
              "      <th>Item_Weight</th>\n",
              "      <th>Item_Fat_Content</th>\n",
              "      <th>Item_Visibility</th>\n",
              "      <th>Item_Type</th>\n",
              "      <th>Item_MRP</th>\n",
              "      <th>Outlet_Size</th>\n",
              "      <th>Outlet_Location_Type</th>\n",
              "      <th>Outlet_Type</th>\n",
              "    </tr>\n",
              "  </thead>\n",
              "  <tbody>\n",
              "    <tr>\n",
              "      <th>4776</th>\n",
              "      <td>16.350</td>\n",
              "      <td>Low Fat</td>\n",
              "      <td>0.029565</td>\n",
              "      <td>Household</td>\n",
              "      <td>256.4646</td>\n",
              "      <td>Medium</td>\n",
              "      <td>Tier 3</td>\n",
              "      <td>Supermarket Type2</td>\n",
              "    </tr>\n",
              "    <tr>\n",
              "      <th>7510</th>\n",
              "      <td>15.250</td>\n",
              "      <td>Regular</td>\n",
              "      <td>0.000000</td>\n",
              "      <td>Snack Foods</td>\n",
              "      <td>179.7660</td>\n",
              "      <td>Medium</td>\n",
              "      <td>Tier 3</td>\n",
              "      <td>Supermarket Type2</td>\n",
              "    </tr>\n",
              "    <tr>\n",
              "      <th>5828</th>\n",
              "      <td>12.350</td>\n",
              "      <td>Regular</td>\n",
              "      <td>0.158716</td>\n",
              "      <td>Meat</td>\n",
              "      <td>157.2946</td>\n",
              "      <td>Medium</td>\n",
              "      <td>Tier 1</td>\n",
              "      <td>Supermarket Type1</td>\n",
              "    </tr>\n",
              "    <tr>\n",
              "      <th>5327</th>\n",
              "      <td>7.975</td>\n",
              "      <td>Low Fat</td>\n",
              "      <td>0.014628</td>\n",
              "      <td>Baking Goods</td>\n",
              "      <td>82.3250</td>\n",
              "      <td>Small</td>\n",
              "      <td>Tier 2</td>\n",
              "      <td>Supermarket Type1</td>\n",
              "    </tr>\n",
              "    <tr>\n",
              "      <th>4810</th>\n",
              "      <td>19.350</td>\n",
              "      <td>Low Fat</td>\n",
              "      <td>0.016645</td>\n",
              "      <td>Frozen Foods</td>\n",
              "      <td>120.9098</td>\n",
              "      <td>NaN</td>\n",
              "      <td>Tier 2</td>\n",
              "      <td>Supermarket Type1</td>\n",
              "    </tr>\n",
              "  </tbody>\n",
              "</table>\n",
              "</div>\n",
              "      <button class=\"colab-df-convert\" onclick=\"convertToInteractive('df-ad81cd4d-f6f7-4a1e-901b-5b29079d0eca')\"\n",
              "              title=\"Convert this dataframe to an interactive table.\"\n",
              "              style=\"display:none;\">\n",
              "        \n",
              "  <svg xmlns=\"http://www.w3.org/2000/svg\" height=\"24px\"viewBox=\"0 0 24 24\"\n",
              "       width=\"24px\">\n",
              "    <path d=\"M0 0h24v24H0V0z\" fill=\"none\"/>\n",
              "    <path d=\"M18.56 5.44l.94 2.06.94-2.06 2.06-.94-2.06-.94-.94-2.06-.94 2.06-2.06.94zm-11 1L8.5 8.5l.94-2.06 2.06-.94-2.06-.94L8.5 2.5l-.94 2.06-2.06.94zm10 10l.94 2.06.94-2.06 2.06-.94-2.06-.94-.94-2.06-.94 2.06-2.06.94z\"/><path d=\"M17.41 7.96l-1.37-1.37c-.4-.4-.92-.59-1.43-.59-.52 0-1.04.2-1.43.59L10.3 9.45l-7.72 7.72c-.78.78-.78 2.05 0 2.83L4 21.41c.39.39.9.59 1.41.59.51 0 1.02-.2 1.41-.59l7.78-7.78 2.81-2.81c.8-.78.8-2.07 0-2.86zM5.41 20L4 18.59l7.72-7.72 1.47 1.35L5.41 20z\"/>\n",
              "  </svg>\n",
              "      </button>\n",
              "      \n",
              "  <style>\n",
              "    .colab-df-container {\n",
              "      display:flex;\n",
              "      flex-wrap:wrap;\n",
              "      gap: 12px;\n",
              "    }\n",
              "\n",
              "    .colab-df-convert {\n",
              "      background-color: #E8F0FE;\n",
              "      border: none;\n",
              "      border-radius: 50%;\n",
              "      cursor: pointer;\n",
              "      display: none;\n",
              "      fill: #1967D2;\n",
              "      height: 32px;\n",
              "      padding: 0 0 0 0;\n",
              "      width: 32px;\n",
              "    }\n",
              "\n",
              "    .colab-df-convert:hover {\n",
              "      background-color: #E2EBFA;\n",
              "      box-shadow: 0px 1px 2px rgba(60, 64, 67, 0.3), 0px 1px 3px 1px rgba(60, 64, 67, 0.15);\n",
              "      fill: #174EA6;\n",
              "    }\n",
              "\n",
              "    [theme=dark] .colab-df-convert {\n",
              "      background-color: #3B4455;\n",
              "      fill: #D2E3FC;\n",
              "    }\n",
              "\n",
              "    [theme=dark] .colab-df-convert:hover {\n",
              "      background-color: #434B5C;\n",
              "      box-shadow: 0px 1px 3px 1px rgba(0, 0, 0, 0.15);\n",
              "      filter: drop-shadow(0px 1px 2px rgba(0, 0, 0, 0.3));\n",
              "      fill: #FFFFFF;\n",
              "    }\n",
              "  </style>\n",
              "\n",
              "      <script>\n",
              "        const buttonEl =\n",
              "          document.querySelector('#df-ad81cd4d-f6f7-4a1e-901b-5b29079d0eca button.colab-df-convert');\n",
              "        buttonEl.style.display =\n",
              "          google.colab.kernel.accessAllowed ? 'block' : 'none';\n",
              "\n",
              "        async function convertToInteractive(key) {\n",
              "          const element = document.querySelector('#df-ad81cd4d-f6f7-4a1e-901b-5b29079d0eca');\n",
              "          const dataTable =\n",
              "            await google.colab.kernel.invokeFunction('convertToInteractive',\n",
              "                                                     [key], {});\n",
              "          if (!dataTable) return;\n",
              "\n",
              "          const docLinkHtml = 'Like what you see? Visit the ' +\n",
              "            '<a target=\"_blank\" href=https://colab.research.google.com/notebooks/data_table.ipynb>data table notebook</a>'\n",
              "            + ' to learn more about interactive tables.';\n",
              "          element.innerHTML = '';\n",
              "          dataTable['output_type'] = 'display_data';\n",
              "          await google.colab.output.renderOutput(dataTable, element);\n",
              "          const docLink = document.createElement('div');\n",
              "          docLink.innerHTML = docLinkHtml;\n",
              "          element.appendChild(docLink);\n",
              "        }\n",
              "      </script>\n",
              "    </div>\n",
              "  </div>\n",
              "  "
            ]
          },
          "metadata": {},
          "execution_count": 224
        }
      ]
    },
    {
      "cell_type": "markdown",
      "source": [
        "**After some deliberation I explored the data and decided that Outlet_Type and Outlet_Location_Type are both nominal, if I had more knowledge on what the supermarket tiers and location tiers actually represented I might be able to set them as ordinal but without that information they are nominal.**\n",
        "\n",
        "Numerical - Item_Weight, Item_Visibility, Item_MRP\n",
        "\n",
        "Ordinal - Outlet_Size \n",
        "\n",
        "Nominal -  Item_Fat_Content, Item_Type, Outlet_Type, Outlet_Location_Type "
      ],
      "metadata": {
        "id": "JaF1NikjUGP5"
      }
    },
    {
      "cell_type": "markdown",
      "source": [
        "How I want to manipulate each type of data:\n",
        "\n",
        "Numerical -> Impute missing values (Mean) -> Scale the data\n",
        "\n",
        "Ordinal -> Impute missing values (Most_Frequent) -> Ordinal Encode the data\n",
        "\n",
        "Nominal -> Imputer missing values (Missing) -> OHE the data."
      ],
      "metadata": {
        "id": "PP_sXt2UZrVe"
      }
    },
    {
      "cell_type": "markdown",
      "source": [
        "## Creating a different pipeline for each type of data and putting them into a column transformer."
      ],
      "metadata": {
        "id": "vdDUvZaGliwI"
      }
    },
    {
      "cell_type": "markdown",
      "source": [
        "### Creating the pipelines."
      ],
      "metadata": {
        "id": "d_dOl75gl8-w"
      }
    },
    {
      "cell_type": "code",
      "source": [
        "# Prepare the different transformations that I want to accomplish.\n",
        "scaler = StandardScaler()\n",
        "ohe = OneHotEncoder(sparse=False,handle_unknown = 'ignore')\n",
        "mean_imputer = SimpleImputer(strategy = 'mean')\n",
        "freq_imputer = SimpleImputer(strategy = 'most_frequent')\n",
        "constant_imputer = SimpleImputer(strategy = 'constant', fill_value = 'Missing')\n",
        "ordered_label =[['Small','Medium','High']]\n",
        "ordinal = OrdinalEncoder(categories=ordered_label)"
      ],
      "metadata": {
        "id": "EGm3hX56XpYL"
      },
      "execution_count": 225,
      "outputs": []
    },
    {
      "cell_type": "code",
      "source": [
        "# For the numeric data we will first impute the missing values with the\n",
        "# mean then we will scale it.\n",
        "numeric_pipeline = make_pipeline(mean_imputer, scaler)\n",
        "numeric_pipeline"
      ],
      "metadata": {
        "colab": {
          "base_uri": "https://localhost:8080/",
          "height": 126
        },
        "id": "c_bfx9GebNVg",
        "outputId": "c17446ad-c31f-49cd-8070-f3bd0046cf57"
      },
      "execution_count": 226,
      "outputs": [
        {
          "output_type": "execute_result",
          "data": {
            "text/plain": [
              "Pipeline(steps=[('simpleimputer', SimpleImputer()),\n",
              "                ('standardscaler', StandardScaler())])"
            ],
            "text/html": [
              "<style>#sk-9717d8a2-3a0f-443f-96bf-86eb2822b558 {color: black;background-color: white;}#sk-9717d8a2-3a0f-443f-96bf-86eb2822b558 pre{padding: 0;}#sk-9717d8a2-3a0f-443f-96bf-86eb2822b558 div.sk-toggleable {background-color: white;}#sk-9717d8a2-3a0f-443f-96bf-86eb2822b558 label.sk-toggleable__label {cursor: pointer;display: block;width: 100%;margin-bottom: 0;padding: 0.3em;box-sizing: border-box;text-align: center;}#sk-9717d8a2-3a0f-443f-96bf-86eb2822b558 label.sk-toggleable__label-arrow:before {content: \"▸\";float: left;margin-right: 0.25em;color: #696969;}#sk-9717d8a2-3a0f-443f-96bf-86eb2822b558 label.sk-toggleable__label-arrow:hover:before {color: black;}#sk-9717d8a2-3a0f-443f-96bf-86eb2822b558 div.sk-estimator:hover label.sk-toggleable__label-arrow:before {color: black;}#sk-9717d8a2-3a0f-443f-96bf-86eb2822b558 div.sk-toggleable__content {max-height: 0;max-width: 0;overflow: hidden;text-align: left;background-color: #f0f8ff;}#sk-9717d8a2-3a0f-443f-96bf-86eb2822b558 div.sk-toggleable__content pre {margin: 0.2em;color: black;border-radius: 0.25em;background-color: #f0f8ff;}#sk-9717d8a2-3a0f-443f-96bf-86eb2822b558 input.sk-toggleable__control:checked~div.sk-toggleable__content {max-height: 200px;max-width: 100%;overflow: auto;}#sk-9717d8a2-3a0f-443f-96bf-86eb2822b558 input.sk-toggleable__control:checked~label.sk-toggleable__label-arrow:before {content: \"▾\";}#sk-9717d8a2-3a0f-443f-96bf-86eb2822b558 div.sk-estimator input.sk-toggleable__control:checked~label.sk-toggleable__label {background-color: #d4ebff;}#sk-9717d8a2-3a0f-443f-96bf-86eb2822b558 div.sk-label input.sk-toggleable__control:checked~label.sk-toggleable__label {background-color: #d4ebff;}#sk-9717d8a2-3a0f-443f-96bf-86eb2822b558 input.sk-hidden--visually {border: 0;clip: rect(1px 1px 1px 1px);clip: rect(1px, 1px, 1px, 1px);height: 1px;margin: -1px;overflow: hidden;padding: 0;position: absolute;width: 1px;}#sk-9717d8a2-3a0f-443f-96bf-86eb2822b558 div.sk-estimator {font-family: monospace;background-color: #f0f8ff;border: 1px dotted black;border-radius: 0.25em;box-sizing: border-box;margin-bottom: 0.5em;}#sk-9717d8a2-3a0f-443f-96bf-86eb2822b558 div.sk-estimator:hover {background-color: #d4ebff;}#sk-9717d8a2-3a0f-443f-96bf-86eb2822b558 div.sk-parallel-item::after {content: \"\";width: 100%;border-bottom: 1px solid gray;flex-grow: 1;}#sk-9717d8a2-3a0f-443f-96bf-86eb2822b558 div.sk-label:hover label.sk-toggleable__label {background-color: #d4ebff;}#sk-9717d8a2-3a0f-443f-96bf-86eb2822b558 div.sk-serial::before {content: \"\";position: absolute;border-left: 1px solid gray;box-sizing: border-box;top: 2em;bottom: 0;left: 50%;}#sk-9717d8a2-3a0f-443f-96bf-86eb2822b558 div.sk-serial {display: flex;flex-direction: column;align-items: center;background-color: white;padding-right: 0.2em;padding-left: 0.2em;}#sk-9717d8a2-3a0f-443f-96bf-86eb2822b558 div.sk-item {z-index: 1;}#sk-9717d8a2-3a0f-443f-96bf-86eb2822b558 div.sk-parallel {display: flex;align-items: stretch;justify-content: center;background-color: white;}#sk-9717d8a2-3a0f-443f-96bf-86eb2822b558 div.sk-parallel::before {content: \"\";position: absolute;border-left: 1px solid gray;box-sizing: border-box;top: 2em;bottom: 0;left: 50%;}#sk-9717d8a2-3a0f-443f-96bf-86eb2822b558 div.sk-parallel-item {display: flex;flex-direction: column;position: relative;background-color: white;}#sk-9717d8a2-3a0f-443f-96bf-86eb2822b558 div.sk-parallel-item:first-child::after {align-self: flex-end;width: 50%;}#sk-9717d8a2-3a0f-443f-96bf-86eb2822b558 div.sk-parallel-item:last-child::after {align-self: flex-start;width: 50%;}#sk-9717d8a2-3a0f-443f-96bf-86eb2822b558 div.sk-parallel-item:only-child::after {width: 0;}#sk-9717d8a2-3a0f-443f-96bf-86eb2822b558 div.sk-dashed-wrapped {border: 1px dashed gray;margin: 0 0.4em 0.5em 0.4em;box-sizing: border-box;padding-bottom: 0.4em;background-color: white;position: relative;}#sk-9717d8a2-3a0f-443f-96bf-86eb2822b558 div.sk-label label {font-family: monospace;font-weight: bold;background-color: white;display: inline-block;line-height: 1.2em;}#sk-9717d8a2-3a0f-443f-96bf-86eb2822b558 div.sk-label-container {position: relative;z-index: 2;text-align: center;}#sk-9717d8a2-3a0f-443f-96bf-86eb2822b558 div.sk-container {/* jupyter's `normalize.less` sets `[hidden] { display: none; }` but bootstrap.min.css set `[hidden] { display: none !important; }` so we also need the `!important` here to be able to override the default hidden behavior on the sphinx rendered scikit-learn.org. See: https://github.com/scikit-learn/scikit-learn/issues/21755 */display: inline-block !important;position: relative;}#sk-9717d8a2-3a0f-443f-96bf-86eb2822b558 div.sk-text-repr-fallback {display: none;}</style><div id=\"sk-9717d8a2-3a0f-443f-96bf-86eb2822b558\" class=\"sk-top-container\"><div class=\"sk-text-repr-fallback\"><pre>Pipeline(steps=[(&#x27;simpleimputer&#x27;, SimpleImputer()),\n",
              "                (&#x27;standardscaler&#x27;, StandardScaler())])</pre><b>Please rerun this cell to show the HTML repr or trust the notebook.</b></div><div class=\"sk-container\" hidden><div class=\"sk-item sk-dashed-wrapped\"><div class=\"sk-label-container\"><div class=\"sk-label sk-toggleable\"><input class=\"sk-toggleable__control sk-hidden--visually\" id=\"1aa660ee-3cdc-479c-b6fe-25894a2d5ee8\" type=\"checkbox\" ><label for=\"1aa660ee-3cdc-479c-b6fe-25894a2d5ee8\" class=\"sk-toggleable__label sk-toggleable__label-arrow\">Pipeline</label><div class=\"sk-toggleable__content\"><pre>Pipeline(steps=[(&#x27;simpleimputer&#x27;, SimpleImputer()),\n",
              "                (&#x27;standardscaler&#x27;, StandardScaler())])</pre></div></div></div><div class=\"sk-serial\"><div class=\"sk-item\"><div class=\"sk-estimator sk-toggleable\"><input class=\"sk-toggleable__control sk-hidden--visually\" id=\"867765e4-43ed-4799-a067-3add0cd67eab\" type=\"checkbox\" ><label for=\"867765e4-43ed-4799-a067-3add0cd67eab\" class=\"sk-toggleable__label sk-toggleable__label-arrow\">SimpleImputer</label><div class=\"sk-toggleable__content\"><pre>SimpleImputer()</pre></div></div></div><div class=\"sk-item\"><div class=\"sk-estimator sk-toggleable\"><input class=\"sk-toggleable__control sk-hidden--visually\" id=\"c5201921-15ec-4ad7-a44a-c0809a647504\" type=\"checkbox\" ><label for=\"c5201921-15ec-4ad7-a44a-c0809a647504\" class=\"sk-toggleable__label sk-toggleable__label-arrow\">StandardScaler</label><div class=\"sk-toggleable__content\"><pre>StandardScaler()</pre></div></div></div></div></div></div></div>"
            ]
          },
          "metadata": {},
          "execution_count": 226
        }
      ]
    },
    {
      "cell_type": "code",
      "source": [
        "# For the ordinal data we will first impute the missing values with the most\n",
        "# frequent value then we will Ordinal Encode the data.\n",
        "ordinal_pipeline = make_pipeline(freq_imputer, ordinal)\n",
        "ordinal_pipeline"
      ],
      "metadata": {
        "colab": {
          "base_uri": "https://localhost:8080/",
          "height": 126
        },
        "id": "cUc68KACeJN2",
        "outputId": "35423db9-f72e-442b-bd85-eb21a873ebc4"
      },
      "execution_count": 227,
      "outputs": [
        {
          "output_type": "execute_result",
          "data": {
            "text/plain": [
              "Pipeline(steps=[('simpleimputer', SimpleImputer(strategy='most_frequent')),\n",
              "                ('ordinalencoder',\n",
              "                 OrdinalEncoder(categories=[['Small', 'Medium', 'High']]))])"
            ],
            "text/html": [
              "<style>#sk-51c01eff-8dc9-41af-a503-49323956e2b3 {color: black;background-color: white;}#sk-51c01eff-8dc9-41af-a503-49323956e2b3 pre{padding: 0;}#sk-51c01eff-8dc9-41af-a503-49323956e2b3 div.sk-toggleable {background-color: white;}#sk-51c01eff-8dc9-41af-a503-49323956e2b3 label.sk-toggleable__label {cursor: pointer;display: block;width: 100%;margin-bottom: 0;padding: 0.3em;box-sizing: border-box;text-align: center;}#sk-51c01eff-8dc9-41af-a503-49323956e2b3 label.sk-toggleable__label-arrow:before {content: \"▸\";float: left;margin-right: 0.25em;color: #696969;}#sk-51c01eff-8dc9-41af-a503-49323956e2b3 label.sk-toggleable__label-arrow:hover:before {color: black;}#sk-51c01eff-8dc9-41af-a503-49323956e2b3 div.sk-estimator:hover label.sk-toggleable__label-arrow:before {color: black;}#sk-51c01eff-8dc9-41af-a503-49323956e2b3 div.sk-toggleable__content {max-height: 0;max-width: 0;overflow: hidden;text-align: left;background-color: #f0f8ff;}#sk-51c01eff-8dc9-41af-a503-49323956e2b3 div.sk-toggleable__content pre {margin: 0.2em;color: black;border-radius: 0.25em;background-color: #f0f8ff;}#sk-51c01eff-8dc9-41af-a503-49323956e2b3 input.sk-toggleable__control:checked~div.sk-toggleable__content {max-height: 200px;max-width: 100%;overflow: auto;}#sk-51c01eff-8dc9-41af-a503-49323956e2b3 input.sk-toggleable__control:checked~label.sk-toggleable__label-arrow:before {content: \"▾\";}#sk-51c01eff-8dc9-41af-a503-49323956e2b3 div.sk-estimator input.sk-toggleable__control:checked~label.sk-toggleable__label {background-color: #d4ebff;}#sk-51c01eff-8dc9-41af-a503-49323956e2b3 div.sk-label input.sk-toggleable__control:checked~label.sk-toggleable__label {background-color: #d4ebff;}#sk-51c01eff-8dc9-41af-a503-49323956e2b3 input.sk-hidden--visually {border: 0;clip: rect(1px 1px 1px 1px);clip: rect(1px, 1px, 1px, 1px);height: 1px;margin: -1px;overflow: hidden;padding: 0;position: absolute;width: 1px;}#sk-51c01eff-8dc9-41af-a503-49323956e2b3 div.sk-estimator {font-family: monospace;background-color: #f0f8ff;border: 1px dotted black;border-radius: 0.25em;box-sizing: border-box;margin-bottom: 0.5em;}#sk-51c01eff-8dc9-41af-a503-49323956e2b3 div.sk-estimator:hover {background-color: #d4ebff;}#sk-51c01eff-8dc9-41af-a503-49323956e2b3 div.sk-parallel-item::after {content: \"\";width: 100%;border-bottom: 1px solid gray;flex-grow: 1;}#sk-51c01eff-8dc9-41af-a503-49323956e2b3 div.sk-label:hover label.sk-toggleable__label {background-color: #d4ebff;}#sk-51c01eff-8dc9-41af-a503-49323956e2b3 div.sk-serial::before {content: \"\";position: absolute;border-left: 1px solid gray;box-sizing: border-box;top: 2em;bottom: 0;left: 50%;}#sk-51c01eff-8dc9-41af-a503-49323956e2b3 div.sk-serial {display: flex;flex-direction: column;align-items: center;background-color: white;padding-right: 0.2em;padding-left: 0.2em;}#sk-51c01eff-8dc9-41af-a503-49323956e2b3 div.sk-item {z-index: 1;}#sk-51c01eff-8dc9-41af-a503-49323956e2b3 div.sk-parallel {display: flex;align-items: stretch;justify-content: center;background-color: white;}#sk-51c01eff-8dc9-41af-a503-49323956e2b3 div.sk-parallel::before {content: \"\";position: absolute;border-left: 1px solid gray;box-sizing: border-box;top: 2em;bottom: 0;left: 50%;}#sk-51c01eff-8dc9-41af-a503-49323956e2b3 div.sk-parallel-item {display: flex;flex-direction: column;position: relative;background-color: white;}#sk-51c01eff-8dc9-41af-a503-49323956e2b3 div.sk-parallel-item:first-child::after {align-self: flex-end;width: 50%;}#sk-51c01eff-8dc9-41af-a503-49323956e2b3 div.sk-parallel-item:last-child::after {align-self: flex-start;width: 50%;}#sk-51c01eff-8dc9-41af-a503-49323956e2b3 div.sk-parallel-item:only-child::after {width: 0;}#sk-51c01eff-8dc9-41af-a503-49323956e2b3 div.sk-dashed-wrapped {border: 1px dashed gray;margin: 0 0.4em 0.5em 0.4em;box-sizing: border-box;padding-bottom: 0.4em;background-color: white;position: relative;}#sk-51c01eff-8dc9-41af-a503-49323956e2b3 div.sk-label label {font-family: monospace;font-weight: bold;background-color: white;display: inline-block;line-height: 1.2em;}#sk-51c01eff-8dc9-41af-a503-49323956e2b3 div.sk-label-container {position: relative;z-index: 2;text-align: center;}#sk-51c01eff-8dc9-41af-a503-49323956e2b3 div.sk-container {/* jupyter's `normalize.less` sets `[hidden] { display: none; }` but bootstrap.min.css set `[hidden] { display: none !important; }` so we also need the `!important` here to be able to override the default hidden behavior on the sphinx rendered scikit-learn.org. See: https://github.com/scikit-learn/scikit-learn/issues/21755 */display: inline-block !important;position: relative;}#sk-51c01eff-8dc9-41af-a503-49323956e2b3 div.sk-text-repr-fallback {display: none;}</style><div id=\"sk-51c01eff-8dc9-41af-a503-49323956e2b3\" class=\"sk-top-container\"><div class=\"sk-text-repr-fallback\"><pre>Pipeline(steps=[(&#x27;simpleimputer&#x27;, SimpleImputer(strategy=&#x27;most_frequent&#x27;)),\n",
              "                (&#x27;ordinalencoder&#x27;,\n",
              "                 OrdinalEncoder(categories=[[&#x27;Small&#x27;, &#x27;Medium&#x27;, &#x27;High&#x27;]]))])</pre><b>Please rerun this cell to show the HTML repr or trust the notebook.</b></div><div class=\"sk-container\" hidden><div class=\"sk-item sk-dashed-wrapped\"><div class=\"sk-label-container\"><div class=\"sk-label sk-toggleable\"><input class=\"sk-toggleable__control sk-hidden--visually\" id=\"eeab046b-57dc-4abd-be9a-740c38787e68\" type=\"checkbox\" ><label for=\"eeab046b-57dc-4abd-be9a-740c38787e68\" class=\"sk-toggleable__label sk-toggleable__label-arrow\">Pipeline</label><div class=\"sk-toggleable__content\"><pre>Pipeline(steps=[(&#x27;simpleimputer&#x27;, SimpleImputer(strategy=&#x27;most_frequent&#x27;)),\n",
              "                (&#x27;ordinalencoder&#x27;,\n",
              "                 OrdinalEncoder(categories=[[&#x27;Small&#x27;, &#x27;Medium&#x27;, &#x27;High&#x27;]]))])</pre></div></div></div><div class=\"sk-serial\"><div class=\"sk-item\"><div class=\"sk-estimator sk-toggleable\"><input class=\"sk-toggleable__control sk-hidden--visually\" id=\"9000770b-969e-4540-ac09-0a8f877796cb\" type=\"checkbox\" ><label for=\"9000770b-969e-4540-ac09-0a8f877796cb\" class=\"sk-toggleable__label sk-toggleable__label-arrow\">SimpleImputer</label><div class=\"sk-toggleable__content\"><pre>SimpleImputer(strategy=&#x27;most_frequent&#x27;)</pre></div></div></div><div class=\"sk-item\"><div class=\"sk-estimator sk-toggleable\"><input class=\"sk-toggleable__control sk-hidden--visually\" id=\"316c1678-5e70-444b-a8b6-840e3f2dcb39\" type=\"checkbox\" ><label for=\"316c1678-5e70-444b-a8b6-840e3f2dcb39\" class=\"sk-toggleable__label sk-toggleable__label-arrow\">OrdinalEncoder</label><div class=\"sk-toggleable__content\"><pre>OrdinalEncoder(categories=[[&#x27;Small&#x27;, &#x27;Medium&#x27;, &#x27;High&#x27;]])</pre></div></div></div></div></div></div></div>"
            ]
          },
          "metadata": {},
          "execution_count": 227
        }
      ]
    },
    {
      "cell_type": "code",
      "source": [
        "# For the nominal data we will impute the missing values by using a constant\n",
        "# 'Missing' value, then we will OneHotEncode the data.\n",
        "nominal_pipeline = make_pipeline(constant_imputer, ohe)\n",
        "nominal_pipeline"
      ],
      "metadata": {
        "colab": {
          "base_uri": "https://localhost:8080/",
          "height": 126
        },
        "id": "qcdDDs5FeJQZ",
        "outputId": "65f2cef9-d48f-4f1e-beea-8a8d56bc8b8b"
      },
      "execution_count": 228,
      "outputs": [
        {
          "output_type": "execute_result",
          "data": {
            "text/plain": [
              "Pipeline(steps=[('simpleimputer',\n",
              "                 SimpleImputer(fill_value='Missing', strategy='constant')),\n",
              "                ('onehotencoder',\n",
              "                 OneHotEncoder(handle_unknown='ignore', sparse=False))])"
            ],
            "text/html": [
              "<style>#sk-63bdc274-eba4-4b80-b024-c3b1598e31ae {color: black;background-color: white;}#sk-63bdc274-eba4-4b80-b024-c3b1598e31ae pre{padding: 0;}#sk-63bdc274-eba4-4b80-b024-c3b1598e31ae div.sk-toggleable {background-color: white;}#sk-63bdc274-eba4-4b80-b024-c3b1598e31ae label.sk-toggleable__label {cursor: pointer;display: block;width: 100%;margin-bottom: 0;padding: 0.3em;box-sizing: border-box;text-align: center;}#sk-63bdc274-eba4-4b80-b024-c3b1598e31ae label.sk-toggleable__label-arrow:before {content: \"▸\";float: left;margin-right: 0.25em;color: #696969;}#sk-63bdc274-eba4-4b80-b024-c3b1598e31ae label.sk-toggleable__label-arrow:hover:before {color: black;}#sk-63bdc274-eba4-4b80-b024-c3b1598e31ae div.sk-estimator:hover label.sk-toggleable__label-arrow:before {color: black;}#sk-63bdc274-eba4-4b80-b024-c3b1598e31ae div.sk-toggleable__content {max-height: 0;max-width: 0;overflow: hidden;text-align: left;background-color: #f0f8ff;}#sk-63bdc274-eba4-4b80-b024-c3b1598e31ae div.sk-toggleable__content pre {margin: 0.2em;color: black;border-radius: 0.25em;background-color: #f0f8ff;}#sk-63bdc274-eba4-4b80-b024-c3b1598e31ae input.sk-toggleable__control:checked~div.sk-toggleable__content {max-height: 200px;max-width: 100%;overflow: auto;}#sk-63bdc274-eba4-4b80-b024-c3b1598e31ae input.sk-toggleable__control:checked~label.sk-toggleable__label-arrow:before {content: \"▾\";}#sk-63bdc274-eba4-4b80-b024-c3b1598e31ae div.sk-estimator input.sk-toggleable__control:checked~label.sk-toggleable__label {background-color: #d4ebff;}#sk-63bdc274-eba4-4b80-b024-c3b1598e31ae div.sk-label input.sk-toggleable__control:checked~label.sk-toggleable__label {background-color: #d4ebff;}#sk-63bdc274-eba4-4b80-b024-c3b1598e31ae input.sk-hidden--visually {border: 0;clip: rect(1px 1px 1px 1px);clip: rect(1px, 1px, 1px, 1px);height: 1px;margin: -1px;overflow: hidden;padding: 0;position: absolute;width: 1px;}#sk-63bdc274-eba4-4b80-b024-c3b1598e31ae div.sk-estimator {font-family: monospace;background-color: #f0f8ff;border: 1px dotted black;border-radius: 0.25em;box-sizing: border-box;margin-bottom: 0.5em;}#sk-63bdc274-eba4-4b80-b024-c3b1598e31ae div.sk-estimator:hover {background-color: #d4ebff;}#sk-63bdc274-eba4-4b80-b024-c3b1598e31ae div.sk-parallel-item::after {content: \"\";width: 100%;border-bottom: 1px solid gray;flex-grow: 1;}#sk-63bdc274-eba4-4b80-b024-c3b1598e31ae div.sk-label:hover label.sk-toggleable__label {background-color: #d4ebff;}#sk-63bdc274-eba4-4b80-b024-c3b1598e31ae div.sk-serial::before {content: \"\";position: absolute;border-left: 1px solid gray;box-sizing: border-box;top: 2em;bottom: 0;left: 50%;}#sk-63bdc274-eba4-4b80-b024-c3b1598e31ae div.sk-serial {display: flex;flex-direction: column;align-items: center;background-color: white;padding-right: 0.2em;padding-left: 0.2em;}#sk-63bdc274-eba4-4b80-b024-c3b1598e31ae div.sk-item {z-index: 1;}#sk-63bdc274-eba4-4b80-b024-c3b1598e31ae div.sk-parallel {display: flex;align-items: stretch;justify-content: center;background-color: white;}#sk-63bdc274-eba4-4b80-b024-c3b1598e31ae div.sk-parallel::before {content: \"\";position: absolute;border-left: 1px solid gray;box-sizing: border-box;top: 2em;bottom: 0;left: 50%;}#sk-63bdc274-eba4-4b80-b024-c3b1598e31ae div.sk-parallel-item {display: flex;flex-direction: column;position: relative;background-color: white;}#sk-63bdc274-eba4-4b80-b024-c3b1598e31ae div.sk-parallel-item:first-child::after {align-self: flex-end;width: 50%;}#sk-63bdc274-eba4-4b80-b024-c3b1598e31ae div.sk-parallel-item:last-child::after {align-self: flex-start;width: 50%;}#sk-63bdc274-eba4-4b80-b024-c3b1598e31ae div.sk-parallel-item:only-child::after {width: 0;}#sk-63bdc274-eba4-4b80-b024-c3b1598e31ae div.sk-dashed-wrapped {border: 1px dashed gray;margin: 0 0.4em 0.5em 0.4em;box-sizing: border-box;padding-bottom: 0.4em;background-color: white;position: relative;}#sk-63bdc274-eba4-4b80-b024-c3b1598e31ae div.sk-label label {font-family: monospace;font-weight: bold;background-color: white;display: inline-block;line-height: 1.2em;}#sk-63bdc274-eba4-4b80-b024-c3b1598e31ae div.sk-label-container {position: relative;z-index: 2;text-align: center;}#sk-63bdc274-eba4-4b80-b024-c3b1598e31ae div.sk-container {/* jupyter's `normalize.less` sets `[hidden] { display: none; }` but bootstrap.min.css set `[hidden] { display: none !important; }` so we also need the `!important` here to be able to override the default hidden behavior on the sphinx rendered scikit-learn.org. See: https://github.com/scikit-learn/scikit-learn/issues/21755 */display: inline-block !important;position: relative;}#sk-63bdc274-eba4-4b80-b024-c3b1598e31ae div.sk-text-repr-fallback {display: none;}</style><div id=\"sk-63bdc274-eba4-4b80-b024-c3b1598e31ae\" class=\"sk-top-container\"><div class=\"sk-text-repr-fallback\"><pre>Pipeline(steps=[(&#x27;simpleimputer&#x27;,\n",
              "                 SimpleImputer(fill_value=&#x27;Missing&#x27;, strategy=&#x27;constant&#x27;)),\n",
              "                (&#x27;onehotencoder&#x27;,\n",
              "                 OneHotEncoder(handle_unknown=&#x27;ignore&#x27;, sparse=False))])</pre><b>Please rerun this cell to show the HTML repr or trust the notebook.</b></div><div class=\"sk-container\" hidden><div class=\"sk-item sk-dashed-wrapped\"><div class=\"sk-label-container\"><div class=\"sk-label sk-toggleable\"><input class=\"sk-toggleable__control sk-hidden--visually\" id=\"7dd59d69-e00c-4a2c-b254-a7a90d5f9d15\" type=\"checkbox\" ><label for=\"7dd59d69-e00c-4a2c-b254-a7a90d5f9d15\" class=\"sk-toggleable__label sk-toggleable__label-arrow\">Pipeline</label><div class=\"sk-toggleable__content\"><pre>Pipeline(steps=[(&#x27;simpleimputer&#x27;,\n",
              "                 SimpleImputer(fill_value=&#x27;Missing&#x27;, strategy=&#x27;constant&#x27;)),\n",
              "                (&#x27;onehotencoder&#x27;,\n",
              "                 OneHotEncoder(handle_unknown=&#x27;ignore&#x27;, sparse=False))])</pre></div></div></div><div class=\"sk-serial\"><div class=\"sk-item\"><div class=\"sk-estimator sk-toggleable\"><input class=\"sk-toggleable__control sk-hidden--visually\" id=\"6e32c15a-8179-4fd1-8fe1-79ebc5b237ed\" type=\"checkbox\" ><label for=\"6e32c15a-8179-4fd1-8fe1-79ebc5b237ed\" class=\"sk-toggleable__label sk-toggleable__label-arrow\">SimpleImputer</label><div class=\"sk-toggleable__content\"><pre>SimpleImputer(fill_value=&#x27;Missing&#x27;, strategy=&#x27;constant&#x27;)</pre></div></div></div><div class=\"sk-item\"><div class=\"sk-estimator sk-toggleable\"><input class=\"sk-toggleable__control sk-hidden--visually\" id=\"86aed915-a339-41f7-8441-2a949dfcee6e\" type=\"checkbox\" ><label for=\"86aed915-a339-41f7-8441-2a949dfcee6e\" class=\"sk-toggleable__label sk-toggleable__label-arrow\">OneHotEncoder</label><div class=\"sk-toggleable__content\"><pre>OneHotEncoder(handle_unknown=&#x27;ignore&#x27;, sparse=False)</pre></div></div></div></div></div></div></div>"
            ]
          },
          "metadata": {},
          "execution_count": 228
        }
      ]
    },
    {
      "cell_type": "markdown",
      "source": [
        "### Creating the column transformer."
      ],
      "metadata": {
        "id": "0hpfwBWumHxD"
      }
    },
    {
      "cell_type": "code",
      "source": [
        "# In order to put pipelines into a column transformer we need to get\n",
        "# column data pertaining to each transformation.\n",
        "\n",
        "# Sort the columns under the different categories to prepare them for column\n",
        "# transformation.\n",
        "numeric_columns = make_column_selector(dtype_include = 'number')\n",
        "ordinal_columns = ['Outlet_Size']\n",
        "nominal_columns = ['Item_Fat_Content',\n",
        "                   'Item_Type', \n",
        "                   'Outlet_Type', \n",
        "                   'Outlet_Location_Type']"
      ],
      "metadata": {
        "id": "2WN9fptxdYMi"
      },
      "execution_count": 229,
      "outputs": []
    },
    {
      "cell_type": "code",
      "source": [
        "# Since column transformer takes tuples we will pair the columns with their\n",
        "# respective transformations.\n",
        "numeric_tuple = (numeric_pipeline, numeric_columns)\n",
        "ordinal_tuple = (ordinal_pipeline, ordinal_columns)\n",
        "nominal_tuple = (nominal_pipeline, nominal_columns)"
      ],
      "metadata": {
        "id": "G2BxePVoe12W"
      },
      "execution_count": 230,
      "outputs": []
    },
    {
      "cell_type": "code",
      "source": [
        "# Making a column transformer.\n",
        "preprocessor = make_column_transformer(ordinal_tuple,\n",
        "                                       nominal_tuple,\n",
        "                                       numeric_tuple,\n",
        "                                       remainder='drop')\n",
        "preprocessor"
      ],
      "metadata": {
        "colab": {
          "base_uri": "https://localhost:8080/",
          "height": 153
        },
        "id": "SYoCYF4YfWyO",
        "outputId": "7465345e-692e-4c51-b653-64be6bb90e93"
      },
      "execution_count": 231,
      "outputs": [
        {
          "output_type": "execute_result",
          "data": {
            "text/plain": [
              "ColumnTransformer(transformers=[('pipeline-1',\n",
              "                                 Pipeline(steps=[('simpleimputer',\n",
              "                                                  SimpleImputer(strategy='most_frequent')),\n",
              "                                                 ('ordinalencoder',\n",
              "                                                  OrdinalEncoder(categories=[['Small',\n",
              "                                                                              'Medium',\n",
              "                                                                              'High']]))]),\n",
              "                                 ['Outlet_Size']),\n",
              "                                ('pipeline-2',\n",
              "                                 Pipeline(steps=[('simpleimputer',\n",
              "                                                  SimpleImputer(fill_value='Missing',\n",
              "                                                                strategy='constant')),\n",
              "                                                 ('onehotencoder',\n",
              "                                                  OneHotEncoder(handle_unknown='ignore',\n",
              "                                                                sparse=False))]),\n",
              "                                 ['Item_Fat_Content', 'Item_Type',\n",
              "                                  'Outlet_Type', 'Outlet_Location_Type']),\n",
              "                                ('pipeline-3',\n",
              "                                 Pipeline(steps=[('simpleimputer',\n",
              "                                                  SimpleImputer()),\n",
              "                                                 ('standardscaler',\n",
              "                                                  StandardScaler())]),\n",
              "                                 <sklearn.compose._column_transformer.make_column_selector object at 0x7f6724c58ad0>)])"
            ],
            "text/html": [
              "<style>#sk-b19dedfd-9732-482d-a9c4-54268e1b6e52 {color: black;background-color: white;}#sk-b19dedfd-9732-482d-a9c4-54268e1b6e52 pre{padding: 0;}#sk-b19dedfd-9732-482d-a9c4-54268e1b6e52 div.sk-toggleable {background-color: white;}#sk-b19dedfd-9732-482d-a9c4-54268e1b6e52 label.sk-toggleable__label {cursor: pointer;display: block;width: 100%;margin-bottom: 0;padding: 0.3em;box-sizing: border-box;text-align: center;}#sk-b19dedfd-9732-482d-a9c4-54268e1b6e52 label.sk-toggleable__label-arrow:before {content: \"▸\";float: left;margin-right: 0.25em;color: #696969;}#sk-b19dedfd-9732-482d-a9c4-54268e1b6e52 label.sk-toggleable__label-arrow:hover:before {color: black;}#sk-b19dedfd-9732-482d-a9c4-54268e1b6e52 div.sk-estimator:hover label.sk-toggleable__label-arrow:before {color: black;}#sk-b19dedfd-9732-482d-a9c4-54268e1b6e52 div.sk-toggleable__content {max-height: 0;max-width: 0;overflow: hidden;text-align: left;background-color: #f0f8ff;}#sk-b19dedfd-9732-482d-a9c4-54268e1b6e52 div.sk-toggleable__content pre {margin: 0.2em;color: black;border-radius: 0.25em;background-color: #f0f8ff;}#sk-b19dedfd-9732-482d-a9c4-54268e1b6e52 input.sk-toggleable__control:checked~div.sk-toggleable__content {max-height: 200px;max-width: 100%;overflow: auto;}#sk-b19dedfd-9732-482d-a9c4-54268e1b6e52 input.sk-toggleable__control:checked~label.sk-toggleable__label-arrow:before {content: \"▾\";}#sk-b19dedfd-9732-482d-a9c4-54268e1b6e52 div.sk-estimator input.sk-toggleable__control:checked~label.sk-toggleable__label {background-color: #d4ebff;}#sk-b19dedfd-9732-482d-a9c4-54268e1b6e52 div.sk-label input.sk-toggleable__control:checked~label.sk-toggleable__label {background-color: #d4ebff;}#sk-b19dedfd-9732-482d-a9c4-54268e1b6e52 input.sk-hidden--visually {border: 0;clip: rect(1px 1px 1px 1px);clip: rect(1px, 1px, 1px, 1px);height: 1px;margin: -1px;overflow: hidden;padding: 0;position: absolute;width: 1px;}#sk-b19dedfd-9732-482d-a9c4-54268e1b6e52 div.sk-estimator {font-family: monospace;background-color: #f0f8ff;border: 1px dotted black;border-radius: 0.25em;box-sizing: border-box;margin-bottom: 0.5em;}#sk-b19dedfd-9732-482d-a9c4-54268e1b6e52 div.sk-estimator:hover {background-color: #d4ebff;}#sk-b19dedfd-9732-482d-a9c4-54268e1b6e52 div.sk-parallel-item::after {content: \"\";width: 100%;border-bottom: 1px solid gray;flex-grow: 1;}#sk-b19dedfd-9732-482d-a9c4-54268e1b6e52 div.sk-label:hover label.sk-toggleable__label {background-color: #d4ebff;}#sk-b19dedfd-9732-482d-a9c4-54268e1b6e52 div.sk-serial::before {content: \"\";position: absolute;border-left: 1px solid gray;box-sizing: border-box;top: 2em;bottom: 0;left: 50%;}#sk-b19dedfd-9732-482d-a9c4-54268e1b6e52 div.sk-serial {display: flex;flex-direction: column;align-items: center;background-color: white;padding-right: 0.2em;padding-left: 0.2em;}#sk-b19dedfd-9732-482d-a9c4-54268e1b6e52 div.sk-item {z-index: 1;}#sk-b19dedfd-9732-482d-a9c4-54268e1b6e52 div.sk-parallel {display: flex;align-items: stretch;justify-content: center;background-color: white;}#sk-b19dedfd-9732-482d-a9c4-54268e1b6e52 div.sk-parallel::before {content: \"\";position: absolute;border-left: 1px solid gray;box-sizing: border-box;top: 2em;bottom: 0;left: 50%;}#sk-b19dedfd-9732-482d-a9c4-54268e1b6e52 div.sk-parallel-item {display: flex;flex-direction: column;position: relative;background-color: white;}#sk-b19dedfd-9732-482d-a9c4-54268e1b6e52 div.sk-parallel-item:first-child::after {align-self: flex-end;width: 50%;}#sk-b19dedfd-9732-482d-a9c4-54268e1b6e52 div.sk-parallel-item:last-child::after {align-self: flex-start;width: 50%;}#sk-b19dedfd-9732-482d-a9c4-54268e1b6e52 div.sk-parallel-item:only-child::after {width: 0;}#sk-b19dedfd-9732-482d-a9c4-54268e1b6e52 div.sk-dashed-wrapped {border: 1px dashed gray;margin: 0 0.4em 0.5em 0.4em;box-sizing: border-box;padding-bottom: 0.4em;background-color: white;position: relative;}#sk-b19dedfd-9732-482d-a9c4-54268e1b6e52 div.sk-label label {font-family: monospace;font-weight: bold;background-color: white;display: inline-block;line-height: 1.2em;}#sk-b19dedfd-9732-482d-a9c4-54268e1b6e52 div.sk-label-container {position: relative;z-index: 2;text-align: center;}#sk-b19dedfd-9732-482d-a9c4-54268e1b6e52 div.sk-container {/* jupyter's `normalize.less` sets `[hidden] { display: none; }` but bootstrap.min.css set `[hidden] { display: none !important; }` so we also need the `!important` here to be able to override the default hidden behavior on the sphinx rendered scikit-learn.org. See: https://github.com/scikit-learn/scikit-learn/issues/21755 */display: inline-block !important;position: relative;}#sk-b19dedfd-9732-482d-a9c4-54268e1b6e52 div.sk-text-repr-fallback {display: none;}</style><div id=\"sk-b19dedfd-9732-482d-a9c4-54268e1b6e52\" class=\"sk-top-container\"><div class=\"sk-text-repr-fallback\"><pre>ColumnTransformer(transformers=[(&#x27;pipeline-1&#x27;,\n",
              "                                 Pipeline(steps=[(&#x27;simpleimputer&#x27;,\n",
              "                                                  SimpleImputer(strategy=&#x27;most_frequent&#x27;)),\n",
              "                                                 (&#x27;ordinalencoder&#x27;,\n",
              "                                                  OrdinalEncoder(categories=[[&#x27;Small&#x27;,\n",
              "                                                                              &#x27;Medium&#x27;,\n",
              "                                                                              &#x27;High&#x27;]]))]),\n",
              "                                 [&#x27;Outlet_Size&#x27;]),\n",
              "                                (&#x27;pipeline-2&#x27;,\n",
              "                                 Pipeline(steps=[(&#x27;simpleimputer&#x27;,\n",
              "                                                  SimpleImputer(fill_value=&#x27;Missing&#x27;,\n",
              "                                                                strategy=&#x27;constant&#x27;)),\n",
              "                                                 (&#x27;onehotencoder&#x27;,\n",
              "                                                  OneHotEncoder(handle_unknown=&#x27;ignore&#x27;,\n",
              "                                                                sparse=False))]),\n",
              "                                 [&#x27;Item_Fat_Content&#x27;, &#x27;Item_Type&#x27;,\n",
              "                                  &#x27;Outlet_Type&#x27;, &#x27;Outlet_Location_Type&#x27;]),\n",
              "                                (&#x27;pipeline-3&#x27;,\n",
              "                                 Pipeline(steps=[(&#x27;simpleimputer&#x27;,\n",
              "                                                  SimpleImputer()),\n",
              "                                                 (&#x27;standardscaler&#x27;,\n",
              "                                                  StandardScaler())]),\n",
              "                                 &lt;sklearn.compose._column_transformer.make_column_selector object at 0x7f6724c58ad0&gt;)])</pre><b>Please rerun this cell to show the HTML repr or trust the notebook.</b></div><div class=\"sk-container\" hidden><div class=\"sk-item sk-dashed-wrapped\"><div class=\"sk-label-container\"><div class=\"sk-label sk-toggleable\"><input class=\"sk-toggleable__control sk-hidden--visually\" id=\"0c5fb898-17af-40f0-b7e2-0beb5d91b80e\" type=\"checkbox\" ><label for=\"0c5fb898-17af-40f0-b7e2-0beb5d91b80e\" class=\"sk-toggleable__label sk-toggleable__label-arrow\">ColumnTransformer</label><div class=\"sk-toggleable__content\"><pre>ColumnTransformer(transformers=[(&#x27;pipeline-1&#x27;,\n",
              "                                 Pipeline(steps=[(&#x27;simpleimputer&#x27;,\n",
              "                                                  SimpleImputer(strategy=&#x27;most_frequent&#x27;)),\n",
              "                                                 (&#x27;ordinalencoder&#x27;,\n",
              "                                                  OrdinalEncoder(categories=[[&#x27;Small&#x27;,\n",
              "                                                                              &#x27;Medium&#x27;,\n",
              "                                                                              &#x27;High&#x27;]]))]),\n",
              "                                 [&#x27;Outlet_Size&#x27;]),\n",
              "                                (&#x27;pipeline-2&#x27;,\n",
              "                                 Pipeline(steps=[(&#x27;simpleimputer&#x27;,\n",
              "                                                  SimpleImputer(fill_value=&#x27;Missing&#x27;,\n",
              "                                                                strategy=&#x27;constant&#x27;)),\n",
              "                                                 (&#x27;onehotencoder&#x27;,\n",
              "                                                  OneHotEncoder(handle_unknown=&#x27;ignore&#x27;,\n",
              "                                                                sparse=False))]),\n",
              "                                 [&#x27;Item_Fat_Content&#x27;, &#x27;Item_Type&#x27;,\n",
              "                                  &#x27;Outlet_Type&#x27;, &#x27;Outlet_Location_Type&#x27;]),\n",
              "                                (&#x27;pipeline-3&#x27;,\n",
              "                                 Pipeline(steps=[(&#x27;simpleimputer&#x27;,\n",
              "                                                  SimpleImputer()),\n",
              "                                                 (&#x27;standardscaler&#x27;,\n",
              "                                                  StandardScaler())]),\n",
              "                                 &lt;sklearn.compose._column_transformer.make_column_selector object at 0x7f6724c58ad0&gt;)])</pre></div></div></div><div class=\"sk-parallel\"><div class=\"sk-parallel-item\"><div class=\"sk-item\"><div class=\"sk-label-container\"><div class=\"sk-label sk-toggleable\"><input class=\"sk-toggleable__control sk-hidden--visually\" id=\"33865d23-8dc7-4a30-a141-d83ca7ea5867\" type=\"checkbox\" ><label for=\"33865d23-8dc7-4a30-a141-d83ca7ea5867\" class=\"sk-toggleable__label sk-toggleable__label-arrow\">pipeline-1</label><div class=\"sk-toggleable__content\"><pre>[&#x27;Outlet_Size&#x27;]</pre></div></div></div><div class=\"sk-serial\"><div class=\"sk-item\"><div class=\"sk-serial\"><div class=\"sk-item\"><div class=\"sk-estimator sk-toggleable\"><input class=\"sk-toggleable__control sk-hidden--visually\" id=\"d42f465c-da62-486b-8c07-2de783bf99e8\" type=\"checkbox\" ><label for=\"d42f465c-da62-486b-8c07-2de783bf99e8\" class=\"sk-toggleable__label sk-toggleable__label-arrow\">SimpleImputer</label><div class=\"sk-toggleable__content\"><pre>SimpleImputer(strategy=&#x27;most_frequent&#x27;)</pre></div></div></div><div class=\"sk-item\"><div class=\"sk-estimator sk-toggleable\"><input class=\"sk-toggleable__control sk-hidden--visually\" id=\"62c7b3bc-d825-4752-8719-76f2971850a9\" type=\"checkbox\" ><label for=\"62c7b3bc-d825-4752-8719-76f2971850a9\" class=\"sk-toggleable__label sk-toggleable__label-arrow\">OrdinalEncoder</label><div class=\"sk-toggleable__content\"><pre>OrdinalEncoder(categories=[[&#x27;Small&#x27;, &#x27;Medium&#x27;, &#x27;High&#x27;]])</pre></div></div></div></div></div></div></div></div><div class=\"sk-parallel-item\"><div class=\"sk-item\"><div class=\"sk-label-container\"><div class=\"sk-label sk-toggleable\"><input class=\"sk-toggleable__control sk-hidden--visually\" id=\"c1d986c8-b89a-49ae-b929-d40b0db8dc9f\" type=\"checkbox\" ><label for=\"c1d986c8-b89a-49ae-b929-d40b0db8dc9f\" class=\"sk-toggleable__label sk-toggleable__label-arrow\">pipeline-2</label><div class=\"sk-toggleable__content\"><pre>[&#x27;Item_Fat_Content&#x27;, &#x27;Item_Type&#x27;, &#x27;Outlet_Type&#x27;, &#x27;Outlet_Location_Type&#x27;]</pre></div></div></div><div class=\"sk-serial\"><div class=\"sk-item\"><div class=\"sk-serial\"><div class=\"sk-item\"><div class=\"sk-estimator sk-toggleable\"><input class=\"sk-toggleable__control sk-hidden--visually\" id=\"cdcc1032-7816-4634-aeff-d0ddc72192d7\" type=\"checkbox\" ><label for=\"cdcc1032-7816-4634-aeff-d0ddc72192d7\" class=\"sk-toggleable__label sk-toggleable__label-arrow\">SimpleImputer</label><div class=\"sk-toggleable__content\"><pre>SimpleImputer(fill_value=&#x27;Missing&#x27;, strategy=&#x27;constant&#x27;)</pre></div></div></div><div class=\"sk-item\"><div class=\"sk-estimator sk-toggleable\"><input class=\"sk-toggleable__control sk-hidden--visually\" id=\"7f1da10d-c80e-411a-b170-5e71e791c8f2\" type=\"checkbox\" ><label for=\"7f1da10d-c80e-411a-b170-5e71e791c8f2\" class=\"sk-toggleable__label sk-toggleable__label-arrow\">OneHotEncoder</label><div class=\"sk-toggleable__content\"><pre>OneHotEncoder(handle_unknown=&#x27;ignore&#x27;, sparse=False)</pre></div></div></div></div></div></div></div></div><div class=\"sk-parallel-item\"><div class=\"sk-item\"><div class=\"sk-label-container\"><div class=\"sk-label sk-toggleable\"><input class=\"sk-toggleable__control sk-hidden--visually\" id=\"b32ff4c3-a3b9-4caf-8799-57b0840fe394\" type=\"checkbox\" ><label for=\"b32ff4c3-a3b9-4caf-8799-57b0840fe394\" class=\"sk-toggleable__label sk-toggleable__label-arrow\">pipeline-3</label><div class=\"sk-toggleable__content\"><pre>&lt;sklearn.compose._column_transformer.make_column_selector object at 0x7f6724c58ad0&gt;</pre></div></div></div><div class=\"sk-serial\"><div class=\"sk-item\"><div class=\"sk-serial\"><div class=\"sk-item\"><div class=\"sk-estimator sk-toggleable\"><input class=\"sk-toggleable__control sk-hidden--visually\" id=\"2ea8542a-6310-4ddd-b697-bee1b37c6893\" type=\"checkbox\" ><label for=\"2ea8542a-6310-4ddd-b697-bee1b37c6893\" class=\"sk-toggleable__label sk-toggleable__label-arrow\">SimpleImputer</label><div class=\"sk-toggleable__content\"><pre>SimpleImputer()</pre></div></div></div><div class=\"sk-item\"><div class=\"sk-estimator sk-toggleable\"><input class=\"sk-toggleable__control sk-hidden--visually\" id=\"482a2671-5087-4c76-84ca-fd3db4defe40\" type=\"checkbox\" ><label for=\"482a2671-5087-4c76-84ca-fd3db4defe40\" class=\"sk-toggleable__label sk-toggleable__label-arrow\">StandardScaler</label><div class=\"sk-toggleable__content\"><pre>StandardScaler()</pre></div></div></div></div></div></div></div></div></div></div></div></div>"
            ]
          },
          "metadata": {},
          "execution_count": 231
        }
      ]
    },
    {
      "cell_type": "code",
      "source": [
        "# Fitting the preprocessor to the X_train data.\n",
        "preprocessor.fit(X_train)"
      ],
      "metadata": {
        "colab": {
          "base_uri": "https://localhost:8080/",
          "height": 153
        },
        "id": "VZaCpGJDfsAj",
        "outputId": "18c549e2-6f5f-4304-a3ca-96634b7eafc4"
      },
      "execution_count": 232,
      "outputs": [
        {
          "output_type": "execute_result",
          "data": {
            "text/plain": [
              "ColumnTransformer(transformers=[('pipeline-1',\n",
              "                                 Pipeline(steps=[('simpleimputer',\n",
              "                                                  SimpleImputer(strategy='most_frequent')),\n",
              "                                                 ('ordinalencoder',\n",
              "                                                  OrdinalEncoder(categories=[['Small',\n",
              "                                                                              'Medium',\n",
              "                                                                              'High']]))]),\n",
              "                                 ['Outlet_Size']),\n",
              "                                ('pipeline-2',\n",
              "                                 Pipeline(steps=[('simpleimputer',\n",
              "                                                  SimpleImputer(fill_value='Missing',\n",
              "                                                                strategy='constant')),\n",
              "                                                 ('onehotencoder',\n",
              "                                                  OneHotEncoder(handle_unknown='ignore',\n",
              "                                                                sparse=False))]),\n",
              "                                 ['Item_Fat_Content', 'Item_Type',\n",
              "                                  'Outlet_Type', 'Outlet_Location_Type']),\n",
              "                                ('pipeline-3',\n",
              "                                 Pipeline(steps=[('simpleimputer',\n",
              "                                                  SimpleImputer()),\n",
              "                                                 ('standardscaler',\n",
              "                                                  StandardScaler())]),\n",
              "                                 <sklearn.compose._column_transformer.make_column_selector object at 0x7f6724c58ad0>)])"
            ],
            "text/html": [
              "<style>#sk-d83bc638-4c1e-463f-82e8-acc2ad989e89 {color: black;background-color: white;}#sk-d83bc638-4c1e-463f-82e8-acc2ad989e89 pre{padding: 0;}#sk-d83bc638-4c1e-463f-82e8-acc2ad989e89 div.sk-toggleable {background-color: white;}#sk-d83bc638-4c1e-463f-82e8-acc2ad989e89 label.sk-toggleable__label {cursor: pointer;display: block;width: 100%;margin-bottom: 0;padding: 0.3em;box-sizing: border-box;text-align: center;}#sk-d83bc638-4c1e-463f-82e8-acc2ad989e89 label.sk-toggleable__label-arrow:before {content: \"▸\";float: left;margin-right: 0.25em;color: #696969;}#sk-d83bc638-4c1e-463f-82e8-acc2ad989e89 label.sk-toggleable__label-arrow:hover:before {color: black;}#sk-d83bc638-4c1e-463f-82e8-acc2ad989e89 div.sk-estimator:hover label.sk-toggleable__label-arrow:before {color: black;}#sk-d83bc638-4c1e-463f-82e8-acc2ad989e89 div.sk-toggleable__content {max-height: 0;max-width: 0;overflow: hidden;text-align: left;background-color: #f0f8ff;}#sk-d83bc638-4c1e-463f-82e8-acc2ad989e89 div.sk-toggleable__content pre {margin: 0.2em;color: black;border-radius: 0.25em;background-color: #f0f8ff;}#sk-d83bc638-4c1e-463f-82e8-acc2ad989e89 input.sk-toggleable__control:checked~div.sk-toggleable__content {max-height: 200px;max-width: 100%;overflow: auto;}#sk-d83bc638-4c1e-463f-82e8-acc2ad989e89 input.sk-toggleable__control:checked~label.sk-toggleable__label-arrow:before {content: \"▾\";}#sk-d83bc638-4c1e-463f-82e8-acc2ad989e89 div.sk-estimator input.sk-toggleable__control:checked~label.sk-toggleable__label {background-color: #d4ebff;}#sk-d83bc638-4c1e-463f-82e8-acc2ad989e89 div.sk-label input.sk-toggleable__control:checked~label.sk-toggleable__label {background-color: #d4ebff;}#sk-d83bc638-4c1e-463f-82e8-acc2ad989e89 input.sk-hidden--visually {border: 0;clip: rect(1px 1px 1px 1px);clip: rect(1px, 1px, 1px, 1px);height: 1px;margin: -1px;overflow: hidden;padding: 0;position: absolute;width: 1px;}#sk-d83bc638-4c1e-463f-82e8-acc2ad989e89 div.sk-estimator {font-family: monospace;background-color: #f0f8ff;border: 1px dotted black;border-radius: 0.25em;box-sizing: border-box;margin-bottom: 0.5em;}#sk-d83bc638-4c1e-463f-82e8-acc2ad989e89 div.sk-estimator:hover {background-color: #d4ebff;}#sk-d83bc638-4c1e-463f-82e8-acc2ad989e89 div.sk-parallel-item::after {content: \"\";width: 100%;border-bottom: 1px solid gray;flex-grow: 1;}#sk-d83bc638-4c1e-463f-82e8-acc2ad989e89 div.sk-label:hover label.sk-toggleable__label {background-color: #d4ebff;}#sk-d83bc638-4c1e-463f-82e8-acc2ad989e89 div.sk-serial::before {content: \"\";position: absolute;border-left: 1px solid gray;box-sizing: border-box;top: 2em;bottom: 0;left: 50%;}#sk-d83bc638-4c1e-463f-82e8-acc2ad989e89 div.sk-serial {display: flex;flex-direction: column;align-items: center;background-color: white;padding-right: 0.2em;padding-left: 0.2em;}#sk-d83bc638-4c1e-463f-82e8-acc2ad989e89 div.sk-item {z-index: 1;}#sk-d83bc638-4c1e-463f-82e8-acc2ad989e89 div.sk-parallel {display: flex;align-items: stretch;justify-content: center;background-color: white;}#sk-d83bc638-4c1e-463f-82e8-acc2ad989e89 div.sk-parallel::before {content: \"\";position: absolute;border-left: 1px solid gray;box-sizing: border-box;top: 2em;bottom: 0;left: 50%;}#sk-d83bc638-4c1e-463f-82e8-acc2ad989e89 div.sk-parallel-item {display: flex;flex-direction: column;position: relative;background-color: white;}#sk-d83bc638-4c1e-463f-82e8-acc2ad989e89 div.sk-parallel-item:first-child::after {align-self: flex-end;width: 50%;}#sk-d83bc638-4c1e-463f-82e8-acc2ad989e89 div.sk-parallel-item:last-child::after {align-self: flex-start;width: 50%;}#sk-d83bc638-4c1e-463f-82e8-acc2ad989e89 div.sk-parallel-item:only-child::after {width: 0;}#sk-d83bc638-4c1e-463f-82e8-acc2ad989e89 div.sk-dashed-wrapped {border: 1px dashed gray;margin: 0 0.4em 0.5em 0.4em;box-sizing: border-box;padding-bottom: 0.4em;background-color: white;position: relative;}#sk-d83bc638-4c1e-463f-82e8-acc2ad989e89 div.sk-label label {font-family: monospace;font-weight: bold;background-color: white;display: inline-block;line-height: 1.2em;}#sk-d83bc638-4c1e-463f-82e8-acc2ad989e89 div.sk-label-container {position: relative;z-index: 2;text-align: center;}#sk-d83bc638-4c1e-463f-82e8-acc2ad989e89 div.sk-container {/* jupyter's `normalize.less` sets `[hidden] { display: none; }` but bootstrap.min.css set `[hidden] { display: none !important; }` so we also need the `!important` here to be able to override the default hidden behavior on the sphinx rendered scikit-learn.org. See: https://github.com/scikit-learn/scikit-learn/issues/21755 */display: inline-block !important;position: relative;}#sk-d83bc638-4c1e-463f-82e8-acc2ad989e89 div.sk-text-repr-fallback {display: none;}</style><div id=\"sk-d83bc638-4c1e-463f-82e8-acc2ad989e89\" class=\"sk-top-container\"><div class=\"sk-text-repr-fallback\"><pre>ColumnTransformer(transformers=[(&#x27;pipeline-1&#x27;,\n",
              "                                 Pipeline(steps=[(&#x27;simpleimputer&#x27;,\n",
              "                                                  SimpleImputer(strategy=&#x27;most_frequent&#x27;)),\n",
              "                                                 (&#x27;ordinalencoder&#x27;,\n",
              "                                                  OrdinalEncoder(categories=[[&#x27;Small&#x27;,\n",
              "                                                                              &#x27;Medium&#x27;,\n",
              "                                                                              &#x27;High&#x27;]]))]),\n",
              "                                 [&#x27;Outlet_Size&#x27;]),\n",
              "                                (&#x27;pipeline-2&#x27;,\n",
              "                                 Pipeline(steps=[(&#x27;simpleimputer&#x27;,\n",
              "                                                  SimpleImputer(fill_value=&#x27;Missing&#x27;,\n",
              "                                                                strategy=&#x27;constant&#x27;)),\n",
              "                                                 (&#x27;onehotencoder&#x27;,\n",
              "                                                  OneHotEncoder(handle_unknown=&#x27;ignore&#x27;,\n",
              "                                                                sparse=False))]),\n",
              "                                 [&#x27;Item_Fat_Content&#x27;, &#x27;Item_Type&#x27;,\n",
              "                                  &#x27;Outlet_Type&#x27;, &#x27;Outlet_Location_Type&#x27;]),\n",
              "                                (&#x27;pipeline-3&#x27;,\n",
              "                                 Pipeline(steps=[(&#x27;simpleimputer&#x27;,\n",
              "                                                  SimpleImputer()),\n",
              "                                                 (&#x27;standardscaler&#x27;,\n",
              "                                                  StandardScaler())]),\n",
              "                                 &lt;sklearn.compose._column_transformer.make_column_selector object at 0x7f6724c58ad0&gt;)])</pre><b>Please rerun this cell to show the HTML repr or trust the notebook.</b></div><div class=\"sk-container\" hidden><div class=\"sk-item sk-dashed-wrapped\"><div class=\"sk-label-container\"><div class=\"sk-label sk-toggleable\"><input class=\"sk-toggleable__control sk-hidden--visually\" id=\"c5778769-d941-44d2-a491-f1b3ab1caf03\" type=\"checkbox\" ><label for=\"c5778769-d941-44d2-a491-f1b3ab1caf03\" class=\"sk-toggleable__label sk-toggleable__label-arrow\">ColumnTransformer</label><div class=\"sk-toggleable__content\"><pre>ColumnTransformer(transformers=[(&#x27;pipeline-1&#x27;,\n",
              "                                 Pipeline(steps=[(&#x27;simpleimputer&#x27;,\n",
              "                                                  SimpleImputer(strategy=&#x27;most_frequent&#x27;)),\n",
              "                                                 (&#x27;ordinalencoder&#x27;,\n",
              "                                                  OrdinalEncoder(categories=[[&#x27;Small&#x27;,\n",
              "                                                                              &#x27;Medium&#x27;,\n",
              "                                                                              &#x27;High&#x27;]]))]),\n",
              "                                 [&#x27;Outlet_Size&#x27;]),\n",
              "                                (&#x27;pipeline-2&#x27;,\n",
              "                                 Pipeline(steps=[(&#x27;simpleimputer&#x27;,\n",
              "                                                  SimpleImputer(fill_value=&#x27;Missing&#x27;,\n",
              "                                                                strategy=&#x27;constant&#x27;)),\n",
              "                                                 (&#x27;onehotencoder&#x27;,\n",
              "                                                  OneHotEncoder(handle_unknown=&#x27;ignore&#x27;,\n",
              "                                                                sparse=False))]),\n",
              "                                 [&#x27;Item_Fat_Content&#x27;, &#x27;Item_Type&#x27;,\n",
              "                                  &#x27;Outlet_Type&#x27;, &#x27;Outlet_Location_Type&#x27;]),\n",
              "                                (&#x27;pipeline-3&#x27;,\n",
              "                                 Pipeline(steps=[(&#x27;simpleimputer&#x27;,\n",
              "                                                  SimpleImputer()),\n",
              "                                                 (&#x27;standardscaler&#x27;,\n",
              "                                                  StandardScaler())]),\n",
              "                                 &lt;sklearn.compose._column_transformer.make_column_selector object at 0x7f6724c58ad0&gt;)])</pre></div></div></div><div class=\"sk-parallel\"><div class=\"sk-parallel-item\"><div class=\"sk-item\"><div class=\"sk-label-container\"><div class=\"sk-label sk-toggleable\"><input class=\"sk-toggleable__control sk-hidden--visually\" id=\"a5cc2930-b1ac-4ee2-9a6c-7b97fca08404\" type=\"checkbox\" ><label for=\"a5cc2930-b1ac-4ee2-9a6c-7b97fca08404\" class=\"sk-toggleable__label sk-toggleable__label-arrow\">pipeline-1</label><div class=\"sk-toggleable__content\"><pre>[&#x27;Outlet_Size&#x27;]</pre></div></div></div><div class=\"sk-serial\"><div class=\"sk-item\"><div class=\"sk-serial\"><div class=\"sk-item\"><div class=\"sk-estimator sk-toggleable\"><input class=\"sk-toggleable__control sk-hidden--visually\" id=\"35e9befb-8145-4385-beff-ffb3b51735fe\" type=\"checkbox\" ><label for=\"35e9befb-8145-4385-beff-ffb3b51735fe\" class=\"sk-toggleable__label sk-toggleable__label-arrow\">SimpleImputer</label><div class=\"sk-toggleable__content\"><pre>SimpleImputer(strategy=&#x27;most_frequent&#x27;)</pre></div></div></div><div class=\"sk-item\"><div class=\"sk-estimator sk-toggleable\"><input class=\"sk-toggleable__control sk-hidden--visually\" id=\"1c38e23b-15c9-46a4-afd9-2c037e684cc3\" type=\"checkbox\" ><label for=\"1c38e23b-15c9-46a4-afd9-2c037e684cc3\" class=\"sk-toggleable__label sk-toggleable__label-arrow\">OrdinalEncoder</label><div class=\"sk-toggleable__content\"><pre>OrdinalEncoder(categories=[[&#x27;Small&#x27;, &#x27;Medium&#x27;, &#x27;High&#x27;]])</pre></div></div></div></div></div></div></div></div><div class=\"sk-parallel-item\"><div class=\"sk-item\"><div class=\"sk-label-container\"><div class=\"sk-label sk-toggleable\"><input class=\"sk-toggleable__control sk-hidden--visually\" id=\"77e1644e-b8b2-4056-9958-2fb170ec73aa\" type=\"checkbox\" ><label for=\"77e1644e-b8b2-4056-9958-2fb170ec73aa\" class=\"sk-toggleable__label sk-toggleable__label-arrow\">pipeline-2</label><div class=\"sk-toggleable__content\"><pre>[&#x27;Item_Fat_Content&#x27;, &#x27;Item_Type&#x27;, &#x27;Outlet_Type&#x27;, &#x27;Outlet_Location_Type&#x27;]</pre></div></div></div><div class=\"sk-serial\"><div class=\"sk-item\"><div class=\"sk-serial\"><div class=\"sk-item\"><div class=\"sk-estimator sk-toggleable\"><input class=\"sk-toggleable__control sk-hidden--visually\" id=\"57d1a337-a58a-4935-b81a-c2781976c90e\" type=\"checkbox\" ><label for=\"57d1a337-a58a-4935-b81a-c2781976c90e\" class=\"sk-toggleable__label sk-toggleable__label-arrow\">SimpleImputer</label><div class=\"sk-toggleable__content\"><pre>SimpleImputer(fill_value=&#x27;Missing&#x27;, strategy=&#x27;constant&#x27;)</pre></div></div></div><div class=\"sk-item\"><div class=\"sk-estimator sk-toggleable\"><input class=\"sk-toggleable__control sk-hidden--visually\" id=\"3c13ce21-2e0b-4016-a550-888b5a5e8468\" type=\"checkbox\" ><label for=\"3c13ce21-2e0b-4016-a550-888b5a5e8468\" class=\"sk-toggleable__label sk-toggleable__label-arrow\">OneHotEncoder</label><div class=\"sk-toggleable__content\"><pre>OneHotEncoder(handle_unknown=&#x27;ignore&#x27;, sparse=False)</pre></div></div></div></div></div></div></div></div><div class=\"sk-parallel-item\"><div class=\"sk-item\"><div class=\"sk-label-container\"><div class=\"sk-label sk-toggleable\"><input class=\"sk-toggleable__control sk-hidden--visually\" id=\"4a50c6b8-09b5-4e8c-9b5b-e7188288b81f\" type=\"checkbox\" ><label for=\"4a50c6b8-09b5-4e8c-9b5b-e7188288b81f\" class=\"sk-toggleable__label sk-toggleable__label-arrow\">pipeline-3</label><div class=\"sk-toggleable__content\"><pre>&lt;sklearn.compose._column_transformer.make_column_selector object at 0x7f6724c58ad0&gt;</pre></div></div></div><div class=\"sk-serial\"><div class=\"sk-item\"><div class=\"sk-serial\"><div class=\"sk-item\"><div class=\"sk-estimator sk-toggleable\"><input class=\"sk-toggleable__control sk-hidden--visually\" id=\"f0caba7d-02c7-4dbf-9c0c-79000bd37b6a\" type=\"checkbox\" ><label for=\"f0caba7d-02c7-4dbf-9c0c-79000bd37b6a\" class=\"sk-toggleable__label sk-toggleable__label-arrow\">SimpleImputer</label><div class=\"sk-toggleable__content\"><pre>SimpleImputer()</pre></div></div></div><div class=\"sk-item\"><div class=\"sk-estimator sk-toggleable\"><input class=\"sk-toggleable__control sk-hidden--visually\" id=\"eec289d5-ef63-4822-b878-07f17fed0054\" type=\"checkbox\" ><label for=\"eec289d5-ef63-4822-b878-07f17fed0054\" class=\"sk-toggleable__label sk-toggleable__label-arrow\">StandardScaler</label><div class=\"sk-toggleable__content\"><pre>StandardScaler()</pre></div></div></div></div></div></div></div></div></div></div></div></div>"
            ]
          },
          "metadata": {},
          "execution_count": 232
        }
      ]
    },
    {
      "cell_type": "code",
      "source": [
        "X_train_processed = preprocessor.transform(X_train)\n",
        "X_test_processed = preprocessor.transform(X_test)\n",
        "X_train_processed"
      ],
      "metadata": {
        "colab": {
          "base_uri": "https://localhost:8080/"
        },
        "id": "GDP4UmuMidPB",
        "outputId": "d39e7299-5215-40ce-c3ea-db85c4fd7273"
      },
      "execution_count": 233,
      "outputs": [
        {
          "output_type": "execute_result",
          "data": {
            "text/plain": [
              "array([[ 1.        ,  1.        ,  0.        , ...,  0.81724868,\n",
              "        -0.71277507,  1.82810922],\n",
              "       [ 1.        ,  0.        ,  1.        , ...,  0.5563395 ,\n",
              "        -1.29105225,  0.60336888],\n",
              "       [ 1.        ,  0.        ,  1.        , ..., -0.13151196,\n",
              "         1.81331864,  0.24454056],\n",
              "       ...,\n",
              "       [ 1.        ,  1.        ,  0.        , ...,  1.11373638,\n",
              "        -0.92052713,  1.52302674],\n",
              "       [ 1.        ,  1.        ,  0.        , ...,  1.76600931,\n",
              "        -0.2277552 , -0.38377708],\n",
              "       [ 0.        ,  1.        ,  0.        , ...,  0.81724868,\n",
              "        -0.95867683, -0.73836105]])"
            ]
          },
          "metadata": {},
          "execution_count": 233
        }
      ]
    }
  ]
}